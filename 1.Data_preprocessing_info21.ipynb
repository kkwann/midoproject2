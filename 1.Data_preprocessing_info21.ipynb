{
 "cells": [
  {
   "cell_type": "code",
   "execution_count": 1,
   "id": "81fa5b7b-0d13-4592-b87c-523fcd4d8714",
   "metadata": {},
   "outputs": [],
   "source": [
    "import pandas as pd\n",
    "import numpy as np\n",
    "\n",
    "import re\n",
    "from itertools import chain\n",
    "from collections import Counter\n",
    "\n",
    "from google.cloud import bigquery\n",
    "from google.oauth2 import service_account\n",
    "\n",
    "from datetime import datetime, timedelta\n",
    "\n",
    "import requests\n",
    "import warnings\n",
    "from requests.packages.urllib3.exceptions import InsecureRequestWarning\n",
    "\n",
    "# InsecureRequestWarning 경고 무시\n",
    "warnings.simplefilter('ignore', InsecureRequestWarning)"
   ]
  },
  {
   "cell_type": "code",
   "execution_count": 2,
   "id": "de7792c0",
   "metadata": {},
   "outputs": [],
   "source": [
    "KEY_PATH = \".config/\"\n",
    "servicekey_path = KEY_PATH + \"serviceKey.json\" ## 빅쿼리 외 다른 API 활용 위해\n",
    "bigquerykey_path = KEY_PATH + \"mido-project-426906-31b49963ac97.json\"\n",
    "\n",
    "warnings.filterwarnings(\"ignore\")"
   ]
  },
  {
   "cell_type": "code",
   "execution_count": 3,
   "id": "e426681b",
   "metadata": {},
   "outputs": [],
   "source": [
    "# BigQuery 클라이언트 생성 함수\n",
    "def create_bigquery_client(key_path):\n",
    "    credentials = service_account.Credentials.from_service_account_file(key_path)\n",
    "    client = bigquery.Client(credentials=credentials, project=credentials.project_id)\n",
    "    return client"
   ]
  },
  {
   "cell_type": "code",
   "execution_count": 4,
   "id": "1ae8163d",
   "metadata": {},
   "outputs": [],
   "source": [
    "def save_dataframe_to_bigquery(df, dataset_id, table_id, key_path):\n",
    "    # BigQuery 클라이언트 객체 생성\n",
    "    client = create_bigquery_client(key_path)\n",
    "\n",
    "    # 테이블 레퍼런스 생성\n",
    "    table_ref = client.dataset(dataset_id).table(table_id)\n",
    "\n",
    "    # 데이터프레임을 BigQuery 테이블에 적재\n",
    "    job_config = bigquery.LoadJobConfig()\n",
    "    job_config.write_disposition = \"WRITE_TRUNCATE\"  # 기존 테이블 내용 삭제 후 삽입\n",
    "\n",
    "    job = client.load_table_from_dataframe(df, table_ref, job_config=job_config)\n",
    "    job.result()  # 작업 완료 대기\n",
    "\n",
    "    print(f\"Data inserted into table {table_id} successfully.\")"
   ]
  },
  {
   "cell_type": "code",
   "execution_count": 5,
   "id": "72805c5d",
   "metadata": {},
   "outputs": [],
   "source": [
    "def get_dataframe_from_bigquery(dataset_id, table_id, key_path):\n",
    "    # BigQuery 클라이언트 생성\n",
    "    client = create_bigquery_client(key_path)\n",
    "\n",
    "    # 테이블 레퍼런스 생성\n",
    "    table_ref = client.dataset(dataset_id).table(table_id)\n",
    "\n",
    "    # 테이블 데이터를 DataFrame으로 변환\n",
    "    df = client.list_rows(table_ref).to_dataframe()\n",
    "\n",
    "    return df"
   ]
  },
  {
   "cell_type": "code",
   "execution_count": 6,
   "id": "c8f939ce",
   "metadata": {},
   "outputs": [],
   "source": [
    "# 오늘 날짜\n",
    "today = datetime.today()#.strftime('%Y%m%d')\n",
    "\n",
    "# 어제 날짜 계산\n",
    "ytday = datetime.today() - timedelta(days=1)\n",
    "\n",
    "# 만약 어제, 오늘이 토요일(5) 또는 일요일(6)이라면, 그 전주 금요일로 변경\n",
    "if ytday.weekday() == 5:  # 토요일\n",
    "    ytday -= timedelta(days=1)\n",
    "elif ytday.weekday() == 6:  # 일요일\n",
    "    ytday -= timedelta(days=2)\n",
    "if today.weekday() == 5:  # 토요일\n",
    "    today -= timedelta(days=1)\n",
    "elif today.weekday() == 6:  # 일요일\n",
    "    today -= timedelta(days=2)\n",
    "\n",
    "# 'YYYYMMDD' 형식으로 변환\n",
    "ytday = ytday.strftime('%Y%m%d')\n",
    "today = today.strftime('%Y%m%d')"
   ]
  },
  {
   "cell_type": "markdown",
   "id": "edba1a69",
   "metadata": {},
   "source": [
    "#### 법정동코드"
   ]
  },
  {
   "cell_type": "code",
   "execution_count": 7,
   "id": "427babe8",
   "metadata": {},
   "outputs": [],
   "source": [
    "dist_code = pd.read_csv('C:\\py_src\\midoproject\\data/법정동코드 전체자료.csv',encoding='cp949')"
   ]
  },
  {
   "cell_type": "code",
   "execution_count": 8,
   "id": "62a39fcd",
   "metadata": {},
   "outputs": [],
   "source": [
    "dist_code_list = []\n",
    "for i in range(dist_code['법정동명'].str.split().apply(len).max()):\n",
    "    dist_code_temp = dist_code[dist_code['법정동명'].str.split().str[i].str[-1].isin(['읍','면','동','리','가','로']).dropna()]\n",
    "    dist_code_list.append([dist_code_temp['법정동명'].str.split().str[i].dropna().unique()])\n",
    "\n",
    "emd_code_list = list(chain(*chain(*dist_code_list)))"
   ]
  },
  {
   "cell_type": "markdown",
   "id": "431762fe",
   "metadata": {},
   "source": [
    "#### 인포21"
   ]
  },
  {
   "cell_type": "code",
   "execution_count": 9,
   "id": "9ea0d852",
   "metadata": {},
   "outputs": [],
   "source": [
    "# '전국'을 제거하고 나머지 두 개를 쉼표로 연결하는 함수 정의\n",
    "def remove_and_join(region):\n",
    "    # '전국'을 제거하고 나머지 두 개를 쉼표로 연결\n",
    "    regions = region.split(',')\n",
    "    regions = [r for r in regions if r != '전국']\n",
    "    return ','.join(regions)"
   ]
  },
  {
   "cell_type": "code",
   "execution_count": 10,
   "id": "ed680a75",
   "metadata": {},
   "outputs": [
    {
     "ename": "NotFound",
     "evalue": "404 GET https://bigquery.googleapis.com/bigquery/v2/projects/mido-project-426906/datasets/info21/tables/bid_pur_df_008?prettyPrint=false: Not found: Table mido-project-426906:info21.bid_pur_df_008",
     "output_type": "error",
     "traceback": [
      "\u001b[1;31m---------------------------------------------------------------------------\u001b[0m",
      "\u001b[1;31mNotFound\u001b[0m                                  Traceback (most recent call last)",
      "Cell \u001b[1;32mIn[10], line 6\u001b[0m\n\u001b[0;32m      4\u001b[0m bid_info_dict[\u001b[38;5;124m'\u001b[39m\u001b[38;5;124mcon\u001b[39m\u001b[38;5;124m'\u001b[39m] \u001b[38;5;241m=\u001b[39m get_dataframe_from_bigquery(\u001b[38;5;124m'\u001b[39m\u001b[38;5;124minfo21\u001b[39m\u001b[38;5;124m'\u001b[39m,\u001b[38;5;124m'\u001b[39m\u001b[38;5;124mbid_con_df_0\u001b[39m\u001b[38;5;124m'\u001b[39m \u001b[38;5;241m+\u001b[39m today[\u001b[38;5;241m4\u001b[39m:\u001b[38;5;241m6\u001b[39m], bigquerykey_path)\n\u001b[0;32m      5\u001b[0m bid_info_dict[\u001b[38;5;124m'\u001b[39m\u001b[38;5;124mser\u001b[39m\u001b[38;5;124m'\u001b[39m] \u001b[38;5;241m=\u001b[39m get_dataframe_from_bigquery(\u001b[38;5;124m'\u001b[39m\u001b[38;5;124minfo21\u001b[39m\u001b[38;5;124m'\u001b[39m,\u001b[38;5;124m'\u001b[39m\u001b[38;5;124mbid_ser_df_0\u001b[39m\u001b[38;5;124m'\u001b[39m \u001b[38;5;241m+\u001b[39m today[\u001b[38;5;241m4\u001b[39m:\u001b[38;5;241m6\u001b[39m], bigquerykey_path)\n\u001b[1;32m----> 6\u001b[0m bid_info_dict[\u001b[38;5;124m'\u001b[39m\u001b[38;5;124mpur\u001b[39m\u001b[38;5;124m'\u001b[39m] \u001b[38;5;241m=\u001b[39m \u001b[43mget_dataframe_from_bigquery\u001b[49m\u001b[43m(\u001b[49m\u001b[38;5;124;43m'\u001b[39;49m\u001b[38;5;124;43minfo21\u001b[39;49m\u001b[38;5;124;43m'\u001b[39;49m\u001b[43m,\u001b[49m\u001b[38;5;124;43m'\u001b[39;49m\u001b[38;5;124;43mbid_pur_df_0\u001b[39;49m\u001b[38;5;124;43m'\u001b[39;49m\u001b[43m \u001b[49m\u001b[38;5;241;43m+\u001b[39;49m\u001b[43m \u001b[49m\u001b[43mtoday\u001b[49m\u001b[43m[\u001b[49m\u001b[38;5;241;43m4\u001b[39;49m\u001b[43m:\u001b[49m\u001b[38;5;241;43m6\u001b[39;49m\u001b[43m]\u001b[49m\u001b[43m,\u001b[49m\u001b[43m \u001b[49m\u001b[43mbigquerykey_path\u001b[49m\u001b[43m)\u001b[49m\n",
      "Cell \u001b[1;32mIn[5], line 9\u001b[0m, in \u001b[0;36mget_dataframe_from_bigquery\u001b[1;34m(dataset_id, table_id, key_path)\u001b[0m\n\u001b[0;32m      6\u001b[0m table_ref \u001b[38;5;241m=\u001b[39m client\u001b[38;5;241m.\u001b[39mdataset(dataset_id)\u001b[38;5;241m.\u001b[39mtable(table_id)\n\u001b[0;32m      8\u001b[0m \u001b[38;5;66;03m# 테이블 데이터를 DataFrame으로 변환\u001b[39;00m\n\u001b[1;32m----> 9\u001b[0m df \u001b[38;5;241m=\u001b[39m \u001b[43mclient\u001b[49m\u001b[38;5;241;43m.\u001b[39;49m\u001b[43mlist_rows\u001b[49m\u001b[43m(\u001b[49m\u001b[43mtable_ref\u001b[49m\u001b[43m)\u001b[49m\u001b[38;5;241m.\u001b[39mto_dataframe()\n\u001b[0;32m     11\u001b[0m \u001b[38;5;28;01mreturn\u001b[39;00m df\n",
      "File \u001b[1;32mc:\\Users\\kkims\\anaconda3\\envs\\mido\\lib\\site-packages\\google\\cloud\\bigquery\\client.py:4029\u001b[0m, in \u001b[0;36mClient.list_rows\u001b[1;34m(self, table, selected_fields, max_results, page_token, start_index, page_size, retry, timeout)\u001b[0m\n\u001b[0;32m   4026\u001b[0m \u001b[38;5;66;03m# No schema, but no selected_fields. Assume the developer wants all\u001b[39;00m\n\u001b[0;32m   4027\u001b[0m \u001b[38;5;66;03m# columns, so get the table resource for them rather than failing.\u001b[39;00m\n\u001b[0;32m   4028\u001b[0m \u001b[38;5;28;01melif\u001b[39;00m \u001b[38;5;28mlen\u001b[39m(schema) \u001b[38;5;241m==\u001b[39m \u001b[38;5;241m0\u001b[39m:\n\u001b[1;32m-> 4029\u001b[0m     table \u001b[38;5;241m=\u001b[39m \u001b[38;5;28;43mself\u001b[39;49m\u001b[38;5;241;43m.\u001b[39;49m\u001b[43mget_table\u001b[49m\u001b[43m(\u001b[49m\u001b[43mtable\u001b[49m\u001b[38;5;241;43m.\u001b[39;49m\u001b[43mreference\u001b[49m\u001b[43m,\u001b[49m\u001b[43m \u001b[49m\u001b[43mretry\u001b[49m\u001b[38;5;241;43m=\u001b[39;49m\u001b[43mretry\u001b[49m\u001b[43m,\u001b[49m\u001b[43m \u001b[49m\u001b[43mtimeout\u001b[49m\u001b[38;5;241;43m=\u001b[39;49m\u001b[43mtimeout\u001b[49m\u001b[43m)\u001b[49m\n\u001b[0;32m   4030\u001b[0m     schema \u001b[38;5;241m=\u001b[39m table\u001b[38;5;241m.\u001b[39mschema\n\u001b[0;32m   4032\u001b[0m params: Dict[\u001b[38;5;28mstr\u001b[39m, Any] \u001b[38;5;241m=\u001b[39m {}\n",
      "File \u001b[1;32mc:\\Users\\kkims\\anaconda3\\envs\\mido\\lib\\site-packages\\google\\cloud\\bigquery\\client.py:1160\u001b[0m, in \u001b[0;36mClient.get_table\u001b[1;34m(self, table, retry, timeout)\u001b[0m\n\u001b[0;32m   1158\u001b[0m path \u001b[38;5;241m=\u001b[39m table_ref\u001b[38;5;241m.\u001b[39mpath\n\u001b[0;32m   1159\u001b[0m span_attributes \u001b[38;5;241m=\u001b[39m {\u001b[38;5;124m\"\u001b[39m\u001b[38;5;124mpath\u001b[39m\u001b[38;5;124m\"\u001b[39m: path}\n\u001b[1;32m-> 1160\u001b[0m api_response \u001b[38;5;241m=\u001b[39m \u001b[38;5;28;43mself\u001b[39;49m\u001b[38;5;241;43m.\u001b[39;49m\u001b[43m_call_api\u001b[49m\u001b[43m(\u001b[49m\n\u001b[0;32m   1161\u001b[0m \u001b[43m    \u001b[49m\u001b[43mretry\u001b[49m\u001b[43m,\u001b[49m\n\u001b[0;32m   1162\u001b[0m \u001b[43m    \u001b[49m\u001b[43mspan_name\u001b[49m\u001b[38;5;241;43m=\u001b[39;49m\u001b[38;5;124;43m\"\u001b[39;49m\u001b[38;5;124;43mBigQuery.getTable\u001b[39;49m\u001b[38;5;124;43m\"\u001b[39;49m\u001b[43m,\u001b[49m\n\u001b[0;32m   1163\u001b[0m \u001b[43m    \u001b[49m\u001b[43mspan_attributes\u001b[49m\u001b[38;5;241;43m=\u001b[39;49m\u001b[43mspan_attributes\u001b[49m\u001b[43m,\u001b[49m\n\u001b[0;32m   1164\u001b[0m \u001b[43m    \u001b[49m\u001b[43mmethod\u001b[49m\u001b[38;5;241;43m=\u001b[39;49m\u001b[38;5;124;43m\"\u001b[39;49m\u001b[38;5;124;43mGET\u001b[39;49m\u001b[38;5;124;43m\"\u001b[39;49m\u001b[43m,\u001b[49m\n\u001b[0;32m   1165\u001b[0m \u001b[43m    \u001b[49m\u001b[43mpath\u001b[49m\u001b[38;5;241;43m=\u001b[39;49m\u001b[43mpath\u001b[49m\u001b[43m,\u001b[49m\n\u001b[0;32m   1166\u001b[0m \u001b[43m    \u001b[49m\u001b[43mtimeout\u001b[49m\u001b[38;5;241;43m=\u001b[39;49m\u001b[43mtimeout\u001b[49m\u001b[43m,\u001b[49m\n\u001b[0;32m   1167\u001b[0m \u001b[43m\u001b[49m\u001b[43m)\u001b[49m\n\u001b[0;32m   1168\u001b[0m \u001b[38;5;28;01mreturn\u001b[39;00m Table\u001b[38;5;241m.\u001b[39mfrom_api_repr(api_response)\n",
      "File \u001b[1;32mc:\\Users\\kkims\\anaconda3\\envs\\mido\\lib\\site-packages\\google\\cloud\\bigquery\\client.py:833\u001b[0m, in \u001b[0;36mClient._call_api\u001b[1;34m(self, retry, span_name, span_attributes, job_ref, headers, **kwargs)\u001b[0m\n\u001b[0;32m    829\u001b[0m \u001b[38;5;28;01mif\u001b[39;00m span_name \u001b[38;5;129;01mis\u001b[39;00m \u001b[38;5;129;01mnot\u001b[39;00m \u001b[38;5;28;01mNone\u001b[39;00m:\n\u001b[0;32m    830\u001b[0m     \u001b[38;5;28;01mwith\u001b[39;00m create_span(\n\u001b[0;32m    831\u001b[0m         name\u001b[38;5;241m=\u001b[39mspan_name, attributes\u001b[38;5;241m=\u001b[39mspan_attributes, client\u001b[38;5;241m=\u001b[39m\u001b[38;5;28mself\u001b[39m, job_ref\u001b[38;5;241m=\u001b[39mjob_ref\n\u001b[0;32m    832\u001b[0m     ):\n\u001b[1;32m--> 833\u001b[0m         \u001b[38;5;28;01mreturn\u001b[39;00m \u001b[43mcall\u001b[49m\u001b[43m(\u001b[49m\u001b[43m)\u001b[49m\n\u001b[0;32m    835\u001b[0m \u001b[38;5;28;01mreturn\u001b[39;00m call()\n",
      "File \u001b[1;32mc:\\Users\\kkims\\anaconda3\\envs\\mido\\lib\\site-packages\\google\\api_core\\retry\\retry_unary.py:293\u001b[0m, in \u001b[0;36mRetry.__call__.<locals>.retry_wrapped_func\u001b[1;34m(*args, **kwargs)\u001b[0m\n\u001b[0;32m    289\u001b[0m target \u001b[38;5;241m=\u001b[39m functools\u001b[38;5;241m.\u001b[39mpartial(func, \u001b[38;5;241m*\u001b[39margs, \u001b[38;5;241m*\u001b[39m\u001b[38;5;241m*\u001b[39mkwargs)\n\u001b[0;32m    290\u001b[0m sleep_generator \u001b[38;5;241m=\u001b[39m exponential_sleep_generator(\n\u001b[0;32m    291\u001b[0m     \u001b[38;5;28mself\u001b[39m\u001b[38;5;241m.\u001b[39m_initial, \u001b[38;5;28mself\u001b[39m\u001b[38;5;241m.\u001b[39m_maximum, multiplier\u001b[38;5;241m=\u001b[39m\u001b[38;5;28mself\u001b[39m\u001b[38;5;241m.\u001b[39m_multiplier\n\u001b[0;32m    292\u001b[0m )\n\u001b[1;32m--> 293\u001b[0m \u001b[38;5;28;01mreturn\u001b[39;00m \u001b[43mretry_target\u001b[49m\u001b[43m(\u001b[49m\n\u001b[0;32m    294\u001b[0m \u001b[43m    \u001b[49m\u001b[43mtarget\u001b[49m\u001b[43m,\u001b[49m\n\u001b[0;32m    295\u001b[0m \u001b[43m    \u001b[49m\u001b[38;5;28;43mself\u001b[39;49m\u001b[38;5;241;43m.\u001b[39;49m\u001b[43m_predicate\u001b[49m\u001b[43m,\u001b[49m\n\u001b[0;32m    296\u001b[0m \u001b[43m    \u001b[49m\u001b[43msleep_generator\u001b[49m\u001b[43m,\u001b[49m\n\u001b[0;32m    297\u001b[0m \u001b[43m    \u001b[49m\u001b[43mtimeout\u001b[49m\u001b[38;5;241;43m=\u001b[39;49m\u001b[38;5;28;43mself\u001b[39;49m\u001b[38;5;241;43m.\u001b[39;49m\u001b[43m_timeout\u001b[49m\u001b[43m,\u001b[49m\n\u001b[0;32m    298\u001b[0m \u001b[43m    \u001b[49m\u001b[43mon_error\u001b[49m\u001b[38;5;241;43m=\u001b[39;49m\u001b[43mon_error\u001b[49m\u001b[43m,\u001b[49m\n\u001b[0;32m    299\u001b[0m \u001b[43m\u001b[49m\u001b[43m)\u001b[49m\n",
      "File \u001b[1;32mc:\\Users\\kkims\\anaconda3\\envs\\mido\\lib\\site-packages\\google\\api_core\\retry\\retry_unary.py:153\u001b[0m, in \u001b[0;36mretry_target\u001b[1;34m(target, predicate, sleep_generator, timeout, on_error, exception_factory, **kwargs)\u001b[0m\n\u001b[0;32m    149\u001b[0m \u001b[38;5;66;03m# pylint: disable=broad-except\u001b[39;00m\n\u001b[0;32m    150\u001b[0m \u001b[38;5;66;03m# This function explicitly must deal with broad exceptions.\u001b[39;00m\n\u001b[0;32m    151\u001b[0m \u001b[38;5;28;01mexcept\u001b[39;00m \u001b[38;5;167;01mException\u001b[39;00m \u001b[38;5;28;01mas\u001b[39;00m exc:\n\u001b[0;32m    152\u001b[0m     \u001b[38;5;66;03m# defer to shared logic for handling errors\u001b[39;00m\n\u001b[1;32m--> 153\u001b[0m     \u001b[43m_retry_error_helper\u001b[49m\u001b[43m(\u001b[49m\n\u001b[0;32m    154\u001b[0m \u001b[43m        \u001b[49m\u001b[43mexc\u001b[49m\u001b[43m,\u001b[49m\n\u001b[0;32m    155\u001b[0m \u001b[43m        \u001b[49m\u001b[43mdeadline\u001b[49m\u001b[43m,\u001b[49m\n\u001b[0;32m    156\u001b[0m \u001b[43m        \u001b[49m\u001b[43msleep\u001b[49m\u001b[43m,\u001b[49m\n\u001b[0;32m    157\u001b[0m \u001b[43m        \u001b[49m\u001b[43merror_list\u001b[49m\u001b[43m,\u001b[49m\n\u001b[0;32m    158\u001b[0m \u001b[43m        \u001b[49m\u001b[43mpredicate\u001b[49m\u001b[43m,\u001b[49m\n\u001b[0;32m    159\u001b[0m \u001b[43m        \u001b[49m\u001b[43mon_error\u001b[49m\u001b[43m,\u001b[49m\n\u001b[0;32m    160\u001b[0m \u001b[43m        \u001b[49m\u001b[43mexception_factory\u001b[49m\u001b[43m,\u001b[49m\n\u001b[0;32m    161\u001b[0m \u001b[43m        \u001b[49m\u001b[43mtimeout\u001b[49m\u001b[43m,\u001b[49m\n\u001b[0;32m    162\u001b[0m \u001b[43m    \u001b[49m\u001b[43m)\u001b[49m\n\u001b[0;32m    163\u001b[0m     \u001b[38;5;66;03m# if exception not raised, sleep before next attempt\u001b[39;00m\n\u001b[0;32m    164\u001b[0m     time\u001b[38;5;241m.\u001b[39msleep(sleep)\n",
      "File \u001b[1;32mc:\\Users\\kkims\\anaconda3\\envs\\mido\\lib\\site-packages\\google\\api_core\\retry\\retry_base.py:212\u001b[0m, in \u001b[0;36m_retry_error_helper\u001b[1;34m(exc, deadline, next_sleep, error_list, predicate_fn, on_error_fn, exc_factory_fn, original_timeout)\u001b[0m\n\u001b[0;32m    206\u001b[0m \u001b[38;5;28;01mif\u001b[39;00m \u001b[38;5;129;01mnot\u001b[39;00m predicate_fn(exc):\n\u001b[0;32m    207\u001b[0m     final_exc, source_exc \u001b[38;5;241m=\u001b[39m exc_factory_fn(\n\u001b[0;32m    208\u001b[0m         error_list,\n\u001b[0;32m    209\u001b[0m         RetryFailureReason\u001b[38;5;241m.\u001b[39mNON_RETRYABLE_ERROR,\n\u001b[0;32m    210\u001b[0m         original_timeout,\n\u001b[0;32m    211\u001b[0m     )\n\u001b[1;32m--> 212\u001b[0m     \u001b[38;5;28;01mraise\u001b[39;00m final_exc \u001b[38;5;28;01mfrom\u001b[39;00m \u001b[38;5;21;01msource_exc\u001b[39;00m\n\u001b[0;32m    213\u001b[0m \u001b[38;5;28;01mif\u001b[39;00m on_error_fn \u001b[38;5;129;01mis\u001b[39;00m \u001b[38;5;129;01mnot\u001b[39;00m \u001b[38;5;28;01mNone\u001b[39;00m:\n\u001b[0;32m    214\u001b[0m     on_error_fn(exc)\n",
      "File \u001b[1;32mc:\\Users\\kkims\\anaconda3\\envs\\mido\\lib\\site-packages\\google\\api_core\\retry\\retry_unary.py:144\u001b[0m, in \u001b[0;36mretry_target\u001b[1;34m(target, predicate, sleep_generator, timeout, on_error, exception_factory, **kwargs)\u001b[0m\n\u001b[0;32m    142\u001b[0m \u001b[38;5;28;01mfor\u001b[39;00m sleep \u001b[38;5;129;01min\u001b[39;00m sleep_generator:\n\u001b[0;32m    143\u001b[0m     \u001b[38;5;28;01mtry\u001b[39;00m:\n\u001b[1;32m--> 144\u001b[0m         result \u001b[38;5;241m=\u001b[39m \u001b[43mtarget\u001b[49m\u001b[43m(\u001b[49m\u001b[43m)\u001b[49m\n\u001b[0;32m    145\u001b[0m         \u001b[38;5;28;01mif\u001b[39;00m inspect\u001b[38;5;241m.\u001b[39misawaitable(result):\n\u001b[0;32m    146\u001b[0m             warnings\u001b[38;5;241m.\u001b[39mwarn(_ASYNC_RETRY_WARNING)\n",
      "File \u001b[1;32mc:\\Users\\kkims\\anaconda3\\envs\\mido\\lib\\site-packages\\google\\cloud\\_http\\__init__.py:494\u001b[0m, in \u001b[0;36mJSONConnection.api_request\u001b[1;34m(self, method, path, query_params, data, content_type, headers, api_base_url, api_version, expect_json, _target_object, timeout, extra_api_info)\u001b[0m\n\u001b[0;32m    482\u001b[0m response \u001b[38;5;241m=\u001b[39m \u001b[38;5;28mself\u001b[39m\u001b[38;5;241m.\u001b[39m_make_request(\n\u001b[0;32m    483\u001b[0m     method\u001b[38;5;241m=\u001b[39mmethod,\n\u001b[0;32m    484\u001b[0m     url\u001b[38;5;241m=\u001b[39murl,\n\u001b[1;32m   (...)\u001b[0m\n\u001b[0;32m    490\u001b[0m     extra_api_info\u001b[38;5;241m=\u001b[39mextra_api_info,\n\u001b[0;32m    491\u001b[0m )\n\u001b[0;32m    493\u001b[0m \u001b[38;5;28;01mif\u001b[39;00m \u001b[38;5;129;01mnot\u001b[39;00m \u001b[38;5;241m200\u001b[39m \u001b[38;5;241m<\u001b[39m\u001b[38;5;241m=\u001b[39m response\u001b[38;5;241m.\u001b[39mstatus_code \u001b[38;5;241m<\u001b[39m \u001b[38;5;241m300\u001b[39m:\n\u001b[1;32m--> 494\u001b[0m     \u001b[38;5;28;01mraise\u001b[39;00m exceptions\u001b[38;5;241m.\u001b[39mfrom_http_response(response)\n\u001b[0;32m    496\u001b[0m \u001b[38;5;28;01mif\u001b[39;00m expect_json \u001b[38;5;129;01mand\u001b[39;00m response\u001b[38;5;241m.\u001b[39mcontent:\n\u001b[0;32m    497\u001b[0m     \u001b[38;5;28;01mreturn\u001b[39;00m response\u001b[38;5;241m.\u001b[39mjson()\n",
      "\u001b[1;31mNotFound\u001b[0m: 404 GET https://bigquery.googleapis.com/bigquery/v2/projects/mido-project-426906/datasets/info21/tables/bid_pur_df_008?prettyPrint=false: Not found: Table mido-project-426906:info21.bid_pur_df_008"
     ]
    }
   ],
   "source": [
    "# 빅쿼리에서 불러오기\n",
    "bid_info_dict = {}\n",
    "bid_info_dict_fin = {}\n",
    "bid_info_dict['con'] = get_dataframe_from_bigquery('info21','bid_con_df_0' + today[4:6], bigquerykey_path)\n",
    "bid_info_dict['ser'] = get_dataframe_from_bigquery('info21','bid_ser_df_0' + today[4:6], bigquerykey_path)\n",
    "bid_info_dict['pur'] = get_dataframe_from_bigquery('info21','bid_pur_df_0' + today[4:6], bigquerykey_path)"
   ]
  },
  {
   "cell_type": "code",
   "execution_count": 11,
   "id": "49c78b59",
   "metadata": {},
   "outputs": [],
   "source": [
    "# 필요 데이터 추출\n",
    "for bid in bid_info_dict.keys():\n",
    "\n",
    "    # 필요 정보 추출\n",
    "    filtered_bid_df = bid_info_dict[bid][bid_info_dict[bid]['업종'].fillna('').str.contains('건축|건설|ENG|엔지니어링')].reset_index(drop=True)\n",
    "    filtered_bid_df = filtered_bid_df[~filtered_bid_df['업종'].fillna('').str.contains('폐기물')].reset_index(drop=True)\n",
    "    # filtered_bid_df = filtered_bid_df[~filtered_bid_df['공고명'].str.contains('폐기물')].reset_index(drop=True)\n",
    "\n",
    "    # 날짜 필터링\n",
    "    filtered_bid_df = filtered_bid_df[filtered_bid_df['투찰마감'] > datetime.today().strftime('%y.%m.%d')].reset_index(drop=True) ## 투찰마감일이 오늘보다 지났으면 제거\n",
    "\n",
    "\n",
    "\n",
    "    # 필요키워드1\n",
    "    need_kwd1 = '학교|초등학교|중학교|고등학교|대학교|다목적|운동장|종합운동장|공원|체육공원|체육시설|체육센터|스포츠센터|연병장|구장|축구장|족구장|야구장|풋살장|경기장|배드민턴장|테니스장|게이트볼장|하키장|관급'\n",
    "\n",
    "    # 필요키워드2\n",
    "    need_kwd2 = '개선|교체|보수|공사|구매|구입|설치|정비|조성'\n",
    "\n",
    "    # 필요키워드3\n",
    "    need_kwd3 = '인조잔디'\n",
    "\n",
    "    # 제외키워드\n",
    "    except_kwd = 'CCTV|cctv|LED|led|가로등|가속기|간접등|간판|개방|검진|경관|계단|골프장|관리|광고|교량|교실|교육|교차로|균열|그늘막|그림|급수관|급식|난방기|내진|냉방기|네트워크|노상|노점|농기계|단열|데이터|도로개설|도로방음벽|도로정비|도로확장|도서관|디자인|뚜껑|막구조물|맨홀|모노레일|모니터링|미끄럼|미세먼지|미술|방송|방수|방음|방음벽|배면도로|배수|버스|법률자문|벤치|벽화|보건|보도블럭|보상|보일러|보행자도로|복지|볼라드|분묘|불법|빗물받이|사용료|사워실|살포|생육환경|석면|선홈통|소프트웨어|수도|수로|수목표찰|수영장|스크린|스프링클러|승강기|시계탑|시스템|식수대|신호등|안심벨|안전|약수터|억제제|역량|연결도로|예방|예술|오염|옹벽|요양기관|운영|울타리|위생|위험수목|유아|육교|음성안내|음악|의자|인양기|인터넷|입학|자료|자전거|저장고|저장장치|전광판|전기|전신주|전통시장|정화|정화조|조도|조명|조형물|조화기|주차장|줄눈|진로진학|진입도로|창고|창출|처우|철거|취업|치안|카메라|카약|통학로|파고라|펜스|폐기물|폐열|포충기|풀장|풍차|하수|하수관로|하수도|하천|학습|행사|화장|화장실|활성화|횡단보도|휀스|흡연'\n",
    "\n",
    "    # 키워드 기준 데이터 추출\n",
    "    bid_info_df = bid_info_dict[bid][((bid_info_dict[bid]['공고명'].str.contains(need_kwd1) & \n",
    "                                       bid_info_dict[bid]['공고명'].str.contains(need_kwd2)) &\n",
    "                                       ~bid_info_dict[bid]['공고명'].str.contains(except_kwd)) |\n",
    "                                       bid_info_dict[bid]['공고명'].str.contains(need_kwd3)\n",
    "                                       ].reset_index(drop=True)\n",
    "                    \n",
    "    # 전처리\n",
    "    bid_info_df['구분'] = None\n",
    "    # info_df['담당자'] = None\n",
    "    # info_df['연락처'] = None\n",
    "    if bid!='pur':\n",
    "        bid_info_df_fin = bid_info_df[['입력일','지역','발주기관','구분','공고명','업종','분류']]\n",
    "        bid_info_df_fin.columns = ['공고일','지역','발주처','구분','공고명','업종','분류']\n",
    "\n",
    "        bid_info_df_fin['공고일'] = pd.to_datetime(bid_info_df_fin['공고일'], format='%y.%m.%d').dt.strftime('%Y-%m-%d')\n",
    "        bid_info_df_fin['지역'] = bid_info_df_fin['지역'].apply(remove_and_join)\n",
    "\n",
    "        bid_info_dict_fin[bid] = bid_info_df_fin\n",
    "        \n",
    "    else:\n",
    "        bid_info_df_fin = bid_info_df[['개찰일','공고명','업종','분류']]\n",
    "        bid_info_dict_fin[bid] = bid_info_df_fin"
   ]
  },
  {
   "cell_type": "code",
   "execution_count": 12,
   "id": "99256100",
   "metadata": {},
   "outputs": [
    {
     "name": "stdout",
     "output_type": "stream",
     "text": [
      "Data inserted into table bid_con_df_listup successfully.\n",
      "Data inserted into table bid_ser_df_listup successfully.\n"
     ]
    },
    {
     "ename": "KeyError",
     "evalue": "'pur'",
     "output_type": "error",
     "traceback": [
      "\u001b[1;31m---------------------------------------------------------------------------\u001b[0m",
      "\u001b[1;31mKeyError\u001b[0m                                  Traceback (most recent call last)",
      "Cell \u001b[1;32mIn[12], line 4\u001b[0m\n\u001b[0;32m      2\u001b[0m save_dataframe_to_bigquery(bid_info_dict_fin[\u001b[38;5;124m'\u001b[39m\u001b[38;5;124mcon\u001b[39m\u001b[38;5;124m'\u001b[39m],\u001b[38;5;124m'\u001b[39m\u001b[38;5;124minfo21\u001b[39m\u001b[38;5;124m'\u001b[39m,\u001b[38;5;124m'\u001b[39m\u001b[38;5;124mbid_con_df_listup\u001b[39m\u001b[38;5;124m'\u001b[39m,bigquerykey_path)\n\u001b[0;32m      3\u001b[0m save_dataframe_to_bigquery(bid_info_dict_fin[\u001b[38;5;124m'\u001b[39m\u001b[38;5;124mser\u001b[39m\u001b[38;5;124m'\u001b[39m],\u001b[38;5;124m'\u001b[39m\u001b[38;5;124minfo21\u001b[39m\u001b[38;5;124m'\u001b[39m,\u001b[38;5;124m'\u001b[39m\u001b[38;5;124mbid_ser_df_listup\u001b[39m\u001b[38;5;124m'\u001b[39m,bigquerykey_path)\n\u001b[1;32m----> 4\u001b[0m save_dataframe_to_bigquery(\u001b[43mbid_info_dict_fin\u001b[49m\u001b[43m[\u001b[49m\u001b[38;5;124;43m'\u001b[39;49m\u001b[38;5;124;43mpur\u001b[39;49m\u001b[38;5;124;43m'\u001b[39;49m\u001b[43m]\u001b[49m,\u001b[38;5;124m'\u001b[39m\u001b[38;5;124minfo21\u001b[39m\u001b[38;5;124m'\u001b[39m,\u001b[38;5;124m'\u001b[39m\u001b[38;5;124mbid_pur_df_listup\u001b[39m\u001b[38;5;124m'\u001b[39m,bigquerykey_path)\n",
      "\u001b[1;31mKeyError\u001b[0m: 'pur'"
     ]
    }
   ],
   "source": [
    "# 빅쿼리에 적재\n",
    "save_dataframe_to_bigquery(bid_info_dict_fin['con'],'info21','bid_con_df_listup',bigquerykey_path)\n",
    "save_dataframe_to_bigquery(bid_info_dict_fin['ser'],'info21','bid_ser_df_listup',bigquerykey_path)\n",
    "save_dataframe_to_bigquery(bid_info_dict_fin['pur'],'info21','bid_pur_df_listup',bigquerykey_path)"
   ]
  }
 ],
 "metadata": {
  "kernelspec": {
   "display_name": "Python 3 (ipykernel)",
   "language": "python",
   "name": "python3"
  },
  "language_info": {
   "codemirror_mode": {
    "name": "ipython",
    "version": 3
   },
   "file_extension": ".py",
   "mimetype": "text/x-python",
   "name": "python",
   "nbconvert_exporter": "python",
   "pygments_lexer": "ipython3",
   "version": "3.8.19"
  }
 },
 "nbformat": 4,
 "nbformat_minor": 5
}
