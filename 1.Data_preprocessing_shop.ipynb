{
 "cells": [
  {
   "cell_type": "code",
   "execution_count": 1,
   "id": "81fa5b7b-0d13-4592-b87c-523fcd4d8714",
   "metadata": {},
   "outputs": [],
   "source": [
    "import pandas as pd\n",
    "import numpy as np\n",
    "\n",
    "import re\n",
    "from itertools import chain\n",
    "from collections import Counter\n",
    "\n",
    "from google.cloud import bigquery\n",
    "import gspread\n",
    "from google.oauth2 import service_account\n",
    "\n",
    "from datetime import datetime, timedelta\n",
    "\n",
    "import requests\n",
    "import warnings\n",
    "from requests.packages.urllib3.exceptions import InsecureRequestWarning\n",
    "\n",
    "# InsecureRequestWarning 경고 무시\n",
    "warnings.simplefilter('ignore', InsecureRequestWarning)"
   ]
  },
  {
   "cell_type": "code",
   "execution_count": 2,
   "id": "de7792c0",
   "metadata": {},
   "outputs": [],
   "source": [
    "KEY_PATH = \".config/\"\n",
    "servicekey_path = KEY_PATH + \"serviceKey.json\" ## 빅쿼리 외 다른 API 활용 위해\n",
    "bigquerykey_path = KEY_PATH + \"mido-project-426906-31b49963ac97.json\"\n",
    "gskey_path = KEY_PATH + \"mido-project-426906-e75771d2b77a.json\"\n",
    "\n",
    "warnings.filterwarnings(\"ignore\")"
   ]
  },
  {
   "cell_type": "code",
   "execution_count": 3,
   "id": "e426681b",
   "metadata": {},
   "outputs": [],
   "source": [
    "# BigQuery 클라이언트 생성 함수\n",
    "def create_bigquery_client(key_path):\n",
    "    credentials = service_account.Credentials.from_service_account_file(key_path)\n",
    "    client = bigquery.Client(credentials=credentials, project=credentials.project_id)\n",
    "    return client"
   ]
  },
  {
   "cell_type": "code",
   "execution_count": 4,
   "id": "47cbf0d6",
   "metadata": {},
   "outputs": [],
   "source": [
    "# google sheets 클라이언트 생성 함수\n",
    "def create_sheets_client(key_path):\n",
    "    # Google Sheets API 인증\n",
    "    scope = [\n",
    "        \"https://www.googleapis.com/auth/spreadsheets\",\n",
    "        \"https://www.googleapis.com/auth/drive\"\n",
    "    ]\n",
    "    credentials = service_account.Credentials.from_service_account_file(key_path, scopes=scope)\n",
    "    client = gspread.authorize(credentials)\n",
    "    return client"
   ]
  },
  {
   "cell_type": "code",
   "execution_count": 5,
   "id": "1ae8163d",
   "metadata": {},
   "outputs": [],
   "source": [
    "def save_dataframe_to_bigquery(df, dataset_id, table_id, key_path):\n",
    "    # BigQuery 클라이언트 객체 생성\n",
    "    client = create_bigquery_client(key_path)\n",
    "\n",
    "    # 테이블 레퍼런스 생성\n",
    "    table_ref = client.dataset(dataset_id).table(table_id)\n",
    "\n",
    "    # 데이터프레임을 BigQuery 테이블에 적재\n",
    "    job_config = bigquery.LoadJobConfig()\n",
    "    job_config.write_disposition = \"WRITE_TRUNCATE\"  # 기존 테이블 내용 삭제 후 삽입\n",
    "\n",
    "    job = client.load_table_from_dataframe(df, table_ref, job_config=job_config)\n",
    "    job.result()  # 작업 완료 대기\n",
    "\n",
    "    print(f\"Data inserted into table {table_id} successfully.\")"
   ]
  },
  {
   "cell_type": "code",
   "execution_count": 6,
   "id": "72805c5d",
   "metadata": {},
   "outputs": [],
   "source": [
    "def get_dataframe_from_bigquery(dataset_id, table_id, key_path):\n",
    "    # BigQuery 클라이언트 생성\n",
    "    client = create_bigquery_client(key_path)\n",
    "\n",
    "    # 테이블 레퍼런스 생성\n",
    "    table_ref = client.dataset(dataset_id).table(table_id)\n",
    "\n",
    "    # 테이블 데이터를 DataFrame으로 변환\n",
    "    df = client.list_rows(table_ref).to_dataframe()\n",
    "\n",
    "    return df"
   ]
  },
  {
   "cell_type": "code",
   "execution_count": 7,
   "id": "c8f939ce",
   "metadata": {},
   "outputs": [],
   "source": [
    "# 오늘 날짜\n",
    "today = datetime.today()#.strftime('%Y%m%d')\n",
    "\n",
    "# 어제 날짜 계산\n",
    "ytday = datetime.today() - timedelta(days=1)\n",
    "\n",
    "# 만약 어제, 오늘이 토요일(5) 또는 일요일(6)이라면, 그 전주 금요일로 변경\n",
    "if ytday.weekday() == 5:  # 토요일\n",
    "    ytday -= timedelta(days=1)\n",
    "elif ytday.weekday() == 6:  # 일요일\n",
    "    ytday -= timedelta(days=2)\n",
    "if today.weekday() == 5:  # 토요일\n",
    "    today -= timedelta(days=1)\n",
    "elif today.weekday() == 6:  # 일요일\n",
    "    today -= timedelta(days=2)\n",
    "\n",
    "# 'YYYYMMDD' 형식으로 변환\n",
    "ytday = ytday.strftime('%Y%m%d')\n",
    "today = today.strftime('%Y%m%d')"
   ]
  },
  {
   "cell_type": "markdown",
   "id": "edba1a69",
   "metadata": {},
   "source": [
    "#### 법정동코드"
   ]
  },
  {
   "cell_type": "code",
   "execution_count": 8,
   "id": "427babe8",
   "metadata": {},
   "outputs": [],
   "source": [
    "dist_code = pd.read_csv('C:\\py_src\\midoproject\\data/법정동코드 전체자료.csv',encoding='cp949')"
   ]
  },
  {
   "cell_type": "code",
   "execution_count": 9,
   "id": "62a39fcd",
   "metadata": {},
   "outputs": [],
   "source": [
    "dist_code_list = []\n",
    "for i in range(dist_code['법정동명'].str.split().apply(len).max()):\n",
    "    dist_code_temp = dist_code[dist_code['법정동명'].str.split().str[i].str[-1].isin(['읍','면','동','리','가','로']).dropna()]\n",
    "    dist_code_list.append([dist_code_temp['법정동명'].str.split().str[i].dropna().unique()])\n",
    "\n",
    "emd_code_list = list(chain(*chain(*dist_code_list)))"
   ]
  },
  {
   "cell_type": "markdown",
   "id": "604a6a0e",
   "metadata": {},
   "source": [
    "#### 종합쇼핑몰 납품상세내역"
   ]
  },
  {
   "cell_type": "code",
   "execution_count": 10,
   "id": "54c3efeb",
   "metadata": {},
   "outputs": [],
   "source": [
    "all_shop_df = get_dataframe_from_bigquery('g2b', 'shop_detail_df_all', bigquerykey_path)"
   ]
  },
  {
   "cell_type": "code",
   "execution_count": 11,
   "id": "c342de77",
   "metadata": {},
   "outputs": [],
   "source": [
    "all_shop_df['납품요구변경차수'] = all_shop_df['납품요구변경차수'].astype(int)\n",
    "all_shop_df = all_shop_df.loc[all_shop_df.groupby(['납품요구번호', '물품순번'])['납품요구변경차수'].idxmax()]\n",
    "all_shop_df = all_shop_df.sort_values(['납품요구접수일자'],ascending=False).reset_index(drop=True)"
   ]
  },
  {
   "cell_type": "code",
   "execution_count": 12,
   "id": "2c7f8f88",
   "metadata": {},
   "outputs": [],
   "source": [
    "all_shop_df_fin = all_shop_df[['납품요구접수일자', '수요기관명', '납품요구건명', '업체명', '단가', '단위', '수량', '금액', '품목', '수요기관지역명', '납품요구지청명','업체기업구분명','우수제품여부']]"
   ]
  },
  {
   "cell_type": "code",
   "execution_count": 13,
   "id": "e7f0a83b",
   "metadata": {},
   "outputs": [],
   "source": [
    "# 컬럼명을 한글로 변경\n",
    "column_mapping = {\n",
    "    '납품요구접수일자' : 'dlvrReqRcptDate',\n",
    "    '품목' : 'prdctIdntNoNm',\n",
    "    '단가' : 'prdctUprc',\n",
    "    '단위' : 'prdctUnit',\n",
    "    '수량' : 'prdctQty',\n",
    "    '금액' : 'prdctAmt',\n",
    "    '우수제품여부' : 'exclcProdctYn',\n",
    "    '수요기관명' : 'dminsttNm',\n",
    "    '수요기관지역명' : 'dminsttRgnNm',\n",
    "    '업체명' : 'corpNm',\n",
    "    '납품요구건명' : 'dlvrReqNm',\n",
    "    '업체기업구분명' : 'corpEntrprsDivNmNm',\n",
    "    '납품요구지청명' : 'brnofceNm'\n",
    "}\n",
    "\n",
    "all_shop_df_fin.rename(columns=column_mapping, inplace=True)"
   ]
  },
  {
   "cell_type": "code",
   "execution_count": 14,
   "id": "2f46d2fa",
   "metadata": {},
   "outputs": [
    {
     "data": {
      "text/plain": [
       "array([' 충전재/충격흡수패드', ' t55mm', ' 충전재', ' W2000×t35mm', ' t45mm', ' 이중',\n",
       "       ' t35mm', ' t20mm', ' W4000×t35mm', ' W4000×t55mm', ' t19mm',\n",
       "       ' W3800×t55mm', ' W4000×t45mm', ' 인조잔디하부', ' 충격흡수패드',\n",
       "       ' W4000×55mm', ' 무충진', ' W3700×t13mm', ' SEBS황토칩', ' SEBS컬러칩',\n",
       "       ' EPDM칩흑색', ' W4000×T55mm', ' SEBS칩', ' SEBS', ' SEBS압출칩',\n",
       "       ' SEBS녹색칩', ' W4000×35mm', ' 규사', ' SEBS압출칩KONYFILL/컬러',\n",
       "       ' SEBS압출칩(컬러)', ' W4100×55mm', ' 코르크칩갈색',\n",
       "       ' 익스트림모노필라멘트/EPDM BLACK 충진칩 흑색', ' 컬러', ' W4000×57mm',\n",
       "       ' W3650×35mm', ' SEBS압출칩KONYFILL컬러+올레핀패드삽입', ' 효성에버그린',\n",
       "       ' 4000×55mm', ' 국산EPDM고무칩(흑색)', ' 익스트림/SEBS사출칩', ' SEBS압출칩+천연칩',\n",
       "       ' 독일산RPU칩', ' SEBS압출칩KONYFILL(컬러)+칩패드', ' 스페인산SPU칩녹색/갈색',\n",
       "       ' (국산/SEBS/칼라)', ' SBR칩흑색', ' SEBS사출칩(녹색)', ' Geofill(갈색)',\n",
       "       ' EPDM고무칩흑색', ' W3660~4000×55mm', ' 갈색', ' GR인증SBR코팅칩/컬러',\n",
       "       ' SBR흑색'], dtype=object)"
      ]
     },
     "execution_count": 14,
     "metadata": {},
     "output_type": "execute_result"
    }
   ],
   "source": [
    "all_shop_df_fin[all_shop_df_fin['dlvrReqNm'].str.contains('축구장')]['prdctIdntNoNm'].str.split(',').str[-1].unique()"
   ]
  },
  {
   "cell_type": "code",
   "execution_count": 15,
   "id": "0a51930c",
   "metadata": {},
   "outputs": [
    {
     "name": "stdout",
     "output_type": "stream",
     "text": [
      "Data inserted into table shop_detail_df_view successfully.\n"
     ]
    }
   ],
   "source": [
    "# 빅쿼리 적재\n",
    "save_dataframe_to_bigquery(all_shop_df_fin,'g2b','shop_detail_df_view',bigquerykey_path)"
   ]
  },
  {
   "cell_type": "markdown",
   "id": "d4a14388",
   "metadata": {},
   "source": [
    "#### 종합쇼핑몰 품목 정보"
   ]
  },
  {
   "cell_type": "code",
   "execution_count": 16,
   "id": "f2f1d4b4",
   "metadata": {},
   "outputs": [],
   "source": [
    "shop_prod_info_df = get_dataframe_from_bigquery('g2b', 'shop_prod_info', bigquerykey_path)"
   ]
  },
  {
   "cell_type": "code",
   "execution_count": 17,
   "id": "9d5e7080",
   "metadata": {},
   "outputs": [],
   "source": [
    "shop_prod_info_df_temp = shop_prod_info_df[['shopngCntrctNo','shopngCntrctSno','cntrctCorpNm','cntrctMthdNm','prdctClsfcNoNm','dtilPrdctClsfcNoNm','prdctSpecNm','cntrctDeptNm','prodctCertList',\n",
    "                                          'exclncPrcrmntPrdctYn','masYn','smetprCmptProdctYn','cntrctPrceAmt','prdctDlvrPlceNm','prdctDlvryCndtnNm','prdctSplyRgnNm','dlvrTmlmtDaynum']]\n",
    "shop_prod_info_df_temp = shop_prod_info_df_temp[(shop_prod_info_df_temp['prdctClsfcNoNm']=='인조잔디')].reset_index(drop=True)"
   ]
  },
  {
   "cell_type": "code",
   "execution_count": 18,
   "id": "27eba16a",
   "metadata": {},
   "outputs": [],
   "source": [
    "# 컬럼명을 한글로 변경\n",
    "column_mapping = {\n",
    "    'shopngCntrctNo': '쇼핑계약번호',\n",
    "    'shopngCntrctSno': '쇼핑계약순번',\n",
    "    'cntrctCorpNm': '업체명',\n",
    "    'cntrctMthdNm': '계약방법',\n",
    "    'prdctClsfcNoNm': '물품명',\n",
    "    'dtilPrdctClsfcNoNm': '세부물품명',\n",
    "    'prdctSpecNm': '물품식별명',\n",
    "    'cntrctDeptNm': '계약부서명',\n",
    "    'prodctCertList': '인증목록',\n",
    "    'exclncPrcrmntPrdctYn': '우수조달물품여부',\n",
    "    'masYn': '다수공급경쟁자여부',\n",
    "    'smetprCmptProdctYn': '중소기업자간경쟁제품여부',\n",
    "    'cntrctPrceAmt': '금액',\n",
    "    'prdctDlvrPlceNm': '납품장소명',\n",
    "    'prdctDlvryCndtnNm': '인도조건명',\n",
    "    'prdctSplyRgnNm': '공급지역명',\n",
    "    'dlvrTmlmtDaynum': '납품기한'\n",
    "}\n",
    "\n",
    "shop_prod_info_df_temp.rename(columns=column_mapping, inplace=True)"
   ]
  },
  {
   "cell_type": "code",
   "execution_count": 19,
   "id": "c5d4e7dd",
   "metadata": {},
   "outputs": [],
   "source": [
    "# 제품 추출\n",
    "shop_prod_info_df_temp['제품'] = shop_prod_info_df_temp['물품식별명'].apply(lambda x: re.findall('t19mm|t20mm|t35mm|t45mm|t55mm',x)).str[0]"
   ]
  },
  {
   "cell_type": "code",
   "execution_count": 20,
   "id": "a88b280c",
   "metadata": {},
   "outputs": [],
   "source": [
    "# 전처리\n",
    "shop_prod_info_df_temp['잔디구조이중여부'] = ''\n",
    "shop_prod_info_df_temp['잔디구조이중여부'] = np.where(shop_prod_info_df_temp['물품식별명'].str.split(',').str[4:].apply(''.join).str.contains('이중'),'Y','N')\n",
    "\n",
    "shop_prod_info_df_temp['충전재여부'] = ''\n",
    "shop_prod_info_df_temp['충전재여부'] = np.where(shop_prod_info_df_temp['물품식별명'].str.split(',').str[4:].apply(''.join).str.contains('충전재'),'Y','N')\n",
    "\n",
    "shop_prod_info_df_temp['충격흡수패드여부'] = ''\n",
    "shop_prod_info_df_temp['충격흡수패드여부'] = np.where(shop_prod_info_df_temp['물품식별명'].str.split(',').str[4:].apply(''.join).str.contains('충격흡수패드여부'),'Y','N')"
   ]
  },
  {
   "cell_type": "code",
   "execution_count": 21,
   "id": "4f6fb167",
   "metadata": {},
   "outputs": [],
   "source": [
    "# 인증목록별 melt\n",
    "shop_prod_info_df_temp['인증목록'] = shop_prod_info_df_temp['인증목록'].str.split(',')\n",
    "shop_prod_info_df_temp = shop_prod_info_df_temp.explode('인증목록').reset_index(drop=True)\n",
    "shop_prod_info_df_temp['인증목록'] = shop_prod_info_df_temp['인증목록'].str.split('(').str[0]"
   ]
  },
  {
   "cell_type": "code",
   "execution_count": 22,
   "id": "17089189",
   "metadata": {},
   "outputs": [],
   "source": [
    "# 55mm 우수제품정보\n",
    "turf_standard_55 = pd.read_csv('C:\\py_src\\midoproject\\data/turf_standard_55.csv', encoding='cp949')"
   ]
  },
  {
   "cell_type": "code",
   "execution_count": 23,
   "id": "20d70ee8",
   "metadata": {},
   "outputs": [],
   "source": [
    "# 전처리\n",
    "turf_standard_55['제품'] = turf_standard_55['소재'].str.split('/').str[1]\n",
    "turf_standard_55['제품'] = turf_standard_55['제품'].str.strip()\n",
    "turf_standard_55['제품'] = 't' + turf_standard_55['제품']"
   ]
  },
  {
   "cell_type": "code",
   "execution_count": 24,
   "id": "1a24fb38",
   "metadata": {},
   "outputs": [],
   "source": [
    "# 범주형 데이터 전처리\n",
    "turf_standard_55[turf_standard_55.columns[5:-1]] = turf_standard_55[turf_standard_55.columns[5:-1]].applymap(lambda x: int(x.replace('이상','').replace(',','').strip()))"
   ]
  },
  {
   "cell_type": "code",
   "execution_count": 25,
   "id": "06b81b86",
   "metadata": {},
   "outputs": [],
   "source": [
    "# 종합쇼핑몰 품목 정보, 55mm 우수제품 병합\n",
    "shop_prod_info_df_fin = pd.merge(shop_prod_info_df_temp, turf_standard_55, how='left', on=['업체명','제품'])"
   ]
  },
  {
   "cell_type": "code",
   "execution_count": 26,
   "id": "4bbfdb2a",
   "metadata": {},
   "outputs": [],
   "source": [
    "# 에코와 다른 업체 비교\n",
    "shop_prod_info_df_fin['에코여부'] = '경쟁사'\n",
    "shop_prod_info_df_fin['에코여부'] = np.where(shop_prod_info_df_fin['업체명'].str.contains('에코그라운드'),'(주)에코그라운드',shop_prod_info_df_fin['에코여부'])"
   ]
  },
  {
   "cell_type": "code",
   "execution_count": 27,
   "id": "2963337d",
   "metadata": {},
   "outputs": [],
   "source": [
    "# 최종 데이터셋 정리\n",
    "shop_prod_info_df_fin.columns = shop_prod_info_df_fin.columns.str.split('(').str[0].str.replace('/','').str.replace(' ','')\n",
    "shop_prod_info_df_fin = shop_prod_info_df_fin.fillna('')"
   ]
  },
  {
   "cell_type": "code",
   "execution_count": 28,
   "id": "bb3ac87d",
   "metadata": {},
   "outputs": [],
   "source": [
    "# Google Sheets 열기\n",
    "client = create_sheets_client(gskey_path)\n",
    "spreadsheet = client.open(\"종합쇼핑몰 품목 정보\")\n",
    "sheet = spreadsheet.worksheet('sheet2')"
   ]
  },
  {
   "cell_type": "code",
   "execution_count": 29,
   "id": "3782173c",
   "metadata": {},
   "outputs": [
    {
     "data": {
      "text/plain": [
       "{'spreadsheetId': '14expk51SfmXKfTrD-Qadqj6CQa9cNQtOBpBQc2Oy_VY',\n",
       " 'updatedRange': 'sheet2!A1:AH612',\n",
       " 'updatedRows': 612,\n",
       " 'updatedColumns': 34,\n",
       " 'updatedCells': 20808}"
      ]
     },
     "execution_count": 29,
     "metadata": {},
     "output_type": "execute_result"
    }
   ],
   "source": [
    "# Google Sheets에 데이터 업로드\n",
    "sheet.clear()\n",
    "sheet.update([shop_prod_info_df_fin.columns.values.tolist()] + shop_prod_info_df_fin.values.tolist())"
   ]
  },
  {
   "cell_type": "code",
   "execution_count": 30,
   "id": "bfbe7f2d",
   "metadata": {},
   "outputs": [
    {
     "ename": "ArrowTypeError",
     "evalue": "Expected bytes, got a 'float' object",
     "output_type": "error",
     "traceback": [
      "\u001b[1;31m---------------------------------------------------------------------------\u001b[0m",
      "\u001b[1;31mArrowTypeError\u001b[0m                            Traceback (most recent call last)",
      "Cell \u001b[1;32mIn[30], line 2\u001b[0m\n\u001b[0;32m      1\u001b[0m \u001b[38;5;66;03m# 빅쿼리 적재\u001b[39;00m\n\u001b[1;32m----> 2\u001b[0m \u001b[43msave_dataframe_to_bigquery\u001b[49m\u001b[43m(\u001b[49m\u001b[43mshop_prod_info_df_fin\u001b[49m\u001b[43m,\u001b[49m\u001b[38;5;124;43m'\u001b[39;49m\u001b[38;5;124;43mg2b\u001b[39;49m\u001b[38;5;124;43m'\u001b[39;49m\u001b[43m,\u001b[49m\u001b[38;5;124;43m'\u001b[39;49m\u001b[38;5;124;43mshop_prod_info_df_view\u001b[39;49m\u001b[38;5;124;43m'\u001b[39;49m\u001b[43m,\u001b[49m\u001b[43mbigquerykey_path\u001b[49m\u001b[43m)\u001b[49m\n",
      "Cell \u001b[1;32mIn[5], line 12\u001b[0m, in \u001b[0;36msave_dataframe_to_bigquery\u001b[1;34m(df, dataset_id, table_id, key_path)\u001b[0m\n\u001b[0;32m      9\u001b[0m job_config \u001b[38;5;241m=\u001b[39m bigquery\u001b[38;5;241m.\u001b[39mLoadJobConfig()\n\u001b[0;32m     10\u001b[0m job_config\u001b[38;5;241m.\u001b[39mwrite_disposition \u001b[38;5;241m=\u001b[39m \u001b[38;5;124m\"\u001b[39m\u001b[38;5;124mWRITE_TRUNCATE\u001b[39m\u001b[38;5;124m\"\u001b[39m  \u001b[38;5;66;03m# 기존 테이블 내용 삭제 후 삽입\u001b[39;00m\n\u001b[1;32m---> 12\u001b[0m job \u001b[38;5;241m=\u001b[39m \u001b[43mclient\u001b[49m\u001b[38;5;241;43m.\u001b[39;49m\u001b[43mload_table_from_dataframe\u001b[49m\u001b[43m(\u001b[49m\u001b[43mdf\u001b[49m\u001b[43m,\u001b[49m\u001b[43m \u001b[49m\u001b[43mtable_ref\u001b[49m\u001b[43m,\u001b[49m\u001b[43m \u001b[49m\u001b[43mjob_config\u001b[49m\u001b[38;5;241;43m=\u001b[39;49m\u001b[43mjob_config\u001b[49m\u001b[43m)\u001b[49m\n\u001b[0;32m     13\u001b[0m job\u001b[38;5;241m.\u001b[39mresult()  \u001b[38;5;66;03m# 작업 완료 대기\u001b[39;00m\n\u001b[0;32m     15\u001b[0m \u001b[38;5;28mprint\u001b[39m(\u001b[38;5;124mf\u001b[39m\u001b[38;5;124m\"\u001b[39m\u001b[38;5;124mData inserted into table \u001b[39m\u001b[38;5;132;01m{\u001b[39;00mtable_id\u001b[38;5;132;01m}\u001b[39;00m\u001b[38;5;124m successfully.\u001b[39m\u001b[38;5;124m\"\u001b[39m)\n",
      "File \u001b[1;32mc:\\Users\\kkims\\anaconda3\\envs\\mido\\lib\\site-packages\\google\\cloud\\bigquery\\client.py:2777\u001b[0m, in \u001b[0;36mClient.load_table_from_dataframe\u001b[1;34m(self, dataframe, destination, num_retries, job_id, job_id_prefix, location, project, job_config, parquet_compression, timeout)\u001b[0m\n\u001b[0;32m   2759\u001b[0m         columns_and_indexes \u001b[38;5;241m=\u001b[39m \u001b[38;5;28mfrozenset\u001b[39m(\n\u001b[0;32m   2760\u001b[0m             name\n\u001b[0;32m   2761\u001b[0m             \u001b[38;5;28;01mfor\u001b[39;00m name, _ \u001b[38;5;129;01min\u001b[39;00m _pandas_helpers\u001b[38;5;241m.\u001b[39mlist_columns_and_indexes(dataframe)\n\u001b[0;32m   2762\u001b[0m         )\n\u001b[0;32m   2763\u001b[0m         new_job_config\u001b[38;5;241m.\u001b[39mschema \u001b[38;5;241m=\u001b[39m [\n\u001b[0;32m   2764\u001b[0m             \u001b[38;5;66;03m# Field description and policy tags are not needed to\u001b[39;00m\n\u001b[0;32m   2765\u001b[0m             \u001b[38;5;66;03m# serialize a data frame.\u001b[39;00m\n\u001b[1;32m   (...)\u001b[0m\n\u001b[0;32m   2774\u001b[0m             \u001b[38;5;28;01mif\u001b[39;00m field\u001b[38;5;241m.\u001b[39mname \u001b[38;5;129;01min\u001b[39;00m columns_and_indexes\n\u001b[0;32m   2775\u001b[0m         ]\n\u001b[1;32m-> 2777\u001b[0m new_job_config\u001b[38;5;241m.\u001b[39mschema \u001b[38;5;241m=\u001b[39m \u001b[43m_pandas_helpers\u001b[49m\u001b[38;5;241;43m.\u001b[39;49m\u001b[43mdataframe_to_bq_schema\u001b[49m\u001b[43m(\u001b[49m\n\u001b[0;32m   2778\u001b[0m \u001b[43m    \u001b[49m\u001b[43mdataframe\u001b[49m\u001b[43m,\u001b[49m\u001b[43m \u001b[49m\u001b[43mnew_job_config\u001b[49m\u001b[38;5;241;43m.\u001b[39;49m\u001b[43mschema\u001b[49m\n\u001b[0;32m   2779\u001b[0m \u001b[43m\u001b[49m\u001b[43m)\u001b[49m\n\u001b[0;32m   2781\u001b[0m \u001b[38;5;28;01mif\u001b[39;00m \u001b[38;5;129;01mnot\u001b[39;00m new_job_config\u001b[38;5;241m.\u001b[39mschema:\n\u001b[0;32m   2782\u001b[0m     \u001b[38;5;66;03m# the schema could not be fully detected\u001b[39;00m\n\u001b[0;32m   2783\u001b[0m     warnings\u001b[38;5;241m.\u001b[39mwarn(\n\u001b[0;32m   2784\u001b[0m         \u001b[38;5;124m\"\u001b[39m\u001b[38;5;124mSchema could not be detected for all columns. Loading from a \u001b[39m\u001b[38;5;124m\"\u001b[39m\n\u001b[0;32m   2785\u001b[0m         \u001b[38;5;124m\"\u001b[39m\u001b[38;5;124mdataframe without a schema will be deprecated in the future, \u001b[39m\u001b[38;5;124m\"\u001b[39m\n\u001b[1;32m   (...)\u001b[0m\n\u001b[0;32m   2788\u001b[0m         stacklevel\u001b[38;5;241m=\u001b[39m\u001b[38;5;241m2\u001b[39m,\n\u001b[0;32m   2789\u001b[0m     )\n",
      "File \u001b[1;32mc:\\Users\\kkims\\anaconda3\\envs\\mido\\lib\\site-packages\\google\\cloud\\bigquery\\_pandas_helpers.py:500\u001b[0m, in \u001b[0;36mdataframe_to_bq_schema\u001b[1;34m(dataframe, bq_schema)\u001b[0m\n\u001b[0;32m    496\u001b[0m         \u001b[38;5;28;01mreturn\u001b[39;00m \u001b[38;5;28;01mNone\u001b[39;00m  \u001b[38;5;66;03m# We cannot detect the schema in full.\u001b[39;00m\n\u001b[0;32m    498\u001b[0m     \u001b[38;5;66;03m# The augment_schema() helper itself will also issue unknown type\u001b[39;00m\n\u001b[0;32m    499\u001b[0m     \u001b[38;5;66;03m# warnings if detection still fails for any of the fields.\u001b[39;00m\n\u001b[1;32m--> 500\u001b[0m     bq_schema_out \u001b[38;5;241m=\u001b[39m \u001b[43maugment_schema\u001b[49m\u001b[43m(\u001b[49m\u001b[43mdataframe\u001b[49m\u001b[43m,\u001b[49m\u001b[43m \u001b[49m\u001b[43mbq_schema_out\u001b[49m\u001b[43m)\u001b[49m\n\u001b[0;32m    502\u001b[0m \u001b[38;5;28;01mreturn\u001b[39;00m \u001b[38;5;28mtuple\u001b[39m(bq_schema_out) \u001b[38;5;28;01mif\u001b[39;00m bq_schema_out \u001b[38;5;28;01melse\u001b[39;00m \u001b[38;5;28;01mNone\u001b[39;00m\n",
      "File \u001b[1;32mc:\\Users\\kkims\\anaconda3\\envs\\mido\\lib\\site-packages\\google\\cloud\\bigquery\\_pandas_helpers.py:529\u001b[0m, in \u001b[0;36maugment_schema\u001b[1;34m(dataframe, current_bq_schema)\u001b[0m\n\u001b[0;32m    526\u001b[0m     augmented_schema\u001b[38;5;241m.\u001b[39mappend(field)\n\u001b[0;32m    527\u001b[0m     \u001b[38;5;28;01mcontinue\u001b[39;00m\n\u001b[1;32m--> 529\u001b[0m arrow_table \u001b[38;5;241m=\u001b[39m \u001b[43mpyarrow\u001b[49m\u001b[38;5;241;43m.\u001b[39;49m\u001b[43marray\u001b[49m\u001b[43m(\u001b[49m\u001b[43mdataframe\u001b[49m\u001b[38;5;241;43m.\u001b[39;49m\u001b[43mreset_index\u001b[49m\u001b[43m(\u001b[49m\u001b[43m)\u001b[49m\u001b[43m[\u001b[49m\u001b[43mfield\u001b[49m\u001b[38;5;241;43m.\u001b[39;49m\u001b[43mname\u001b[49m\u001b[43m]\u001b[49m\u001b[43m)\u001b[49m\n\u001b[0;32m    531\u001b[0m \u001b[38;5;28;01mif\u001b[39;00m pyarrow\u001b[38;5;241m.\u001b[39mtypes\u001b[38;5;241m.\u001b[39mis_list(arrow_table\u001b[38;5;241m.\u001b[39mtype):\n\u001b[0;32m    532\u001b[0m     \u001b[38;5;66;03m# `pyarrow.ListType`\u001b[39;00m\n\u001b[0;32m    533\u001b[0m     detected_mode \u001b[38;5;241m=\u001b[39m \u001b[38;5;124m\"\u001b[39m\u001b[38;5;124mREPEATED\u001b[39m\u001b[38;5;124m\"\u001b[39m\n",
      "File \u001b[1;32mc:\\Users\\kkims\\anaconda3\\envs\\mido\\lib\\site-packages\\pyarrow\\array.pxi:345\u001b[0m, in \u001b[0;36mpyarrow.lib.array\u001b[1;34m()\u001b[0m\n",
      "File \u001b[1;32mc:\\Users\\kkims\\anaconda3\\envs\\mido\\lib\\site-packages\\pyarrow\\array.pxi:85\u001b[0m, in \u001b[0;36mpyarrow.lib._ndarray_to_array\u001b[1;34m()\u001b[0m\n",
      "File \u001b[1;32mc:\\Users\\kkims\\anaconda3\\envs\\mido\\lib\\site-packages\\pyarrow\\error.pxi:91\u001b[0m, in \u001b[0;36mpyarrow.lib.check_status\u001b[1;34m()\u001b[0m\n",
      "\u001b[1;31mArrowTypeError\u001b[0m: Expected bytes, got a 'float' object"
     ]
    }
   ],
   "source": [
    "# 빅쿼리 적재\n",
    "save_dataframe_to_bigquery(shop_prod_info_df_fin,'g2b','shop_prod_info_df_view',bigquerykey_path)"
   ]
  }
 ],
 "metadata": {
  "kernelspec": {
   "display_name": "Python 3 (ipykernel)",
   "language": "python",
   "name": "python3"
  },
  "language_info": {
   "codemirror_mode": {
    "name": "ipython",
    "version": 3
   },
   "file_extension": ".py",
   "mimetype": "text/x-python",
   "name": "python",
   "nbconvert_exporter": "python",
   "pygments_lexer": "ipython3",
   "version": "3.8.19"
  }
 },
 "nbformat": 4,
 "nbformat_minor": 5
}
