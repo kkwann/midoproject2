{
 "cells": [
  {
   "cell_type": "code",
   "execution_count": 1,
   "id": "81fa5b7b-0d13-4592-b87c-523fcd4d8714",
   "metadata": {},
   "outputs": [],
   "source": [
    "import streamlit as st\n",
    "import pandas as pd\n",
    "import numpy as np\n",
    "import requests\n",
    "from tqdm import tqdm\n",
    "import json\n",
    "from io import BytesIO\n",
    "import os\n",
    "import re\n",
    "from itertools import chain\n",
    "\n",
    "from google.cloud import bigquery\n",
    "from google.oauth2 import service_account\n",
    "\n",
    "from datetime import datetime, timedelta\n",
    "from dateutil import parser\n",
    "from bs4 import BeautifulSoup\n",
    "\n",
    "from selenium import webdriver\n",
    "from selenium.webdriver.common.by import By\n",
    "from selenium.webdriver.chrome.service import Service\n",
    "from selenium.webdriver.chrome.options import Options\n",
    "from webdriver_manager.chrome import ChromeDriverManager\n",
    "import pandas as pd\n",
    "import time\n",
    "\n",
    "# from openpyxl import Workbook\n",
    "# from openpyxl.utils.dataframe import dataframe_to_rows\n",
    "# from openpyxl.styles import Font\n",
    "\n",
    "import base64\n",
    "\n",
    "# import feedparser\n",
    "\n",
    "import requests\n",
    "import warnings\n",
    "from requests.packages.urllib3.exceptions import InsecureRequestWarning\n",
    "\n",
    "# InsecureRequestWarning 경고 무시\n",
    "warnings.simplefilter('ignore', InsecureRequestWarning)"
   ]
  },
  {
   "cell_type": "markdown",
   "id": "f75f1ca8",
   "metadata": {},
   "source": [
    "##### 구글빅쿼리 설정"
   ]
  },
  {
   "cell_type": "code",
   "execution_count": 2,
   "id": "2bfc5d84",
   "metadata": {},
   "outputs": [],
   "source": [
    "KEY_PATH = \".config/\"\n",
    "servicekey_path = KEY_PATH + \"serviceKey.json\" ## 빅쿼리 외 다른 API 활용 위해\n",
    "bigquerykey_path = KEY_PATH + \"mido-project-426906-31b49963ac97.json\"\n",
    "\n",
    "warnings.filterwarnings(\"ignore\")"
   ]
  },
  {
   "cell_type": "code",
   "execution_count": 3,
   "id": "baaf221c",
   "metadata": {},
   "outputs": [],
   "source": [
    "# BigQuery 클라이언트 생성 함수\n",
    "def create_bigquery_client(key_path):\n",
    "    credentials = service_account.Credentials.from_service_account_file(key_path)\n",
    "    client = bigquery.Client(credentials=credentials, project=credentials.project_id)\n",
    "    return client"
   ]
  },
  {
   "cell_type": "code",
   "execution_count": 4,
   "id": "3cb76d55",
   "metadata": {},
   "outputs": [],
   "source": [
    "def save_dataframe_to_bigquery(df, dataset_id, table_id, key_path):\n",
    "    # BigQuery 클라이언트 객체 생성\n",
    "    client = create_bigquery_client(key_path)\n",
    "\n",
    "    # 테이블 레퍼런스 생성\n",
    "    table_ref = client.dataset(dataset_id).table(table_id)\n",
    "\n",
    "    # 데이터프레임을 BigQuery 테이블에 적재\n",
    "    job_config = bigquery.LoadJobConfig()\n",
    "    job_config.write_disposition = \"WRITE_TRUNCATE\"  # 기존 테이블 내용 삭제 후 삽입\n",
    "\n",
    "    job = client.load_table_from_dataframe(df, table_ref, job_config=job_config)\n",
    "    job.result()  # 작업 완료 대기\n",
    "\n",
    "    print(f\"Data inserted into table {table_id} successfully.\")"
   ]
  },
  {
   "cell_type": "code",
   "execution_count": 5,
   "id": "ba55a407",
   "metadata": {},
   "outputs": [],
   "source": [
    "def get_dataframe_from_bigquery(dataset_id, table_id, key_path):\n",
    "    # BigQuery 클라이언트 생성\n",
    "    client = create_bigquery_client(key_path)\n",
    "\n",
    "    # 테이블 레퍼런스 생성\n",
    "    table_ref = client.dataset(dataset_id).table(table_id)\n",
    "\n",
    "    # 테이블 데이터를 DataFrame으로 변환\n",
    "    df = client.list_rows(table_ref).to_dataframe()\n",
    "\n",
    "    return df"
   ]
  },
  {
   "cell_type": "code",
   "execution_count": 6,
   "id": "6257a535",
   "metadata": {},
   "outputs": [],
   "source": [
    "# 오늘 날짜\n",
    "today = datetime.today().strftime('%Y%m%d')\n",
    "\n",
    "# 어제 날짜 계산\n",
    "ytday = datetime.today() - timedelta(days=1)\n",
    "\n",
    "# 만약 어제가 토요일(5) 또는 일요일(6)이라면, 그 전주 금요일로 변경\n",
    "if ytday.weekday() == 5:  # 토요일\n",
    "    ytday -= timedelta(days=1)\n",
    "elif ytday.weekday() == 6:  # 일요일\n",
    "    ytday -= timedelta(days=2)\n",
    "\n",
    "# 'YYYYMMDD' 형식으로 변환\n",
    "ytday = ytday.strftime('%Y%m%d')"
   ]
  },
  {
   "cell_type": "code",
   "execution_count": 7,
   "id": "82971235",
   "metadata": {},
   "outputs": [
    {
     "data": {
      "text/plain": [
       "<google.api_core.page_iterator.HTTPIterator at 0x197a2d16970>"
      ]
     },
     "execution_count": 7,
     "metadata": {},
     "output_type": "execute_result"
    }
   ],
   "source": [
    "create_bigquery_client(bigquerykey_path).list_tables(f\"{'mido-project-426906'}.{'g2b'}\")"
   ]
  },
  {
   "cell_type": "markdown",
   "id": "0853fe7f-e4c8-4226-a457-3e3f5d54b061",
   "metadata": {
    "jp-MarkdownHeadingCollapsed": true
   },
   "source": [
    "### 나라장터 종합쇼핑몰 납품 상세 내역"
   ]
  },
  {
   "cell_type": "code",
   "execution_count": 8,
   "id": "47ae72c1-a9eb-4ecb-8e06-dffe109da1b5",
   "metadata": {
    "scrolled": true
   },
   "outputs": [],
   "source": [
    "# API 엔드포인트 및 쿼리 파라미터 설정\n",
    "url = 'https://apis.data.go.kr/1230000/ShoppingMallPrdctInfoService06/getDlvrReqDtlInfoList01'\n",
    "params = {\n",
    "    'ServiceKey': 'mQ9FwLgvOY3RCjUPiBiGw0ZjjfJW1G5IWVopKvRrp/+e+FCQR8ClAQ2iNB0DFLVZbCjRY+QVE7/Wy8BbCF4O7w==',\n",
    "    'pageNo': '1',\n",
    "    'numOfRows': '100',\n",
    "    'type': 'json',\n",
    "    'inqryDiv': '1',\n",
    "    'inqryBgnDate': today[:-2]+'01', ## 해당월\n",
    "    'inqryEndDate': today, ## 오늘날짜\n",
    "    'prdctClsfcNoNm': '인조잔디'\n",
    "}\n",
    "\n",
    "\n",
    "# 모든 데이터를 저장할 빈 리스트 초기화\n",
    "all_items = []\n",
    "\n",
    "# 페이지를 바꿔가며 데이터를 가져오기\n",
    "page_no = 1\n",
    "while True:\n",
    "    params['pageNo'] = str(page_no)\n",
    "    response = requests.get(url, params=params)\n",
    "    data = response.json()\n",
    "    \n",
    "    # 현재 페이지의 items 가져오기\n",
    "    items = data['response']['body']['items']\n",
    "    \n",
    "    # items가 비어있으면 반복 종료\n",
    "    if not items:\n",
    "        break\n",
    "    \n",
    "    # 현재 페이지의 items를 all_items에 추가\n",
    "    all_items.extend(items)\n",
    "    \n",
    "    # 다음 페이지로 이동\n",
    "    page_no += 1\n",
    "\n",
    "# 모든 items 데이터를 데이터프레임으로 변환\n",
    "shop_detail_df = pd.DataFrame(all_items)\n",
    "\n",
    "# 컬럼명을 한글로 변경\n",
    "column_mapping = {\n",
    "    'dlvrReqNo': '납품요구번호',\n",
    "    'dlvrReqChgOrd': '납품요구변경차수',\n",
    "    'dlvrReqRcptDate': '납품요구접수일자',\n",
    "    'prdctSno': '물품순번',\n",
    "    'prdctClsfcNo': '물품분류번호',\n",
    "    'prdctClsfcNoNm': '품명',\n",
    "    'dtilPrdctClsfcNo': '세부물품분류번호',\n",
    "    'dtilPrdctClsfcNoNm': '세부품명',\n",
    "    'prdctIdntNo': '물품식별번호',\n",
    "    'prdctIdntNoNm': '품목',\n",
    "    'prdctUprc': '단가',\n",
    "    'prdctUnit': '단위',\n",
    "    'prdctQty': '수량',\n",
    "    'prdctAmt': '금액',\n",
    "    'dlvrTmlmtDate': '납품기한일자',\n",
    "    'cntrctCnclsStleNm': '계약구분',\n",
    "    'exclcProdctYn': '우수제품여부',\n",
    "    'optnDivCdNm': '옵션구분',\n",
    "    'dminsttCd': '수요기관코드',\n",
    "    'dminsttNm': '수요기관명',\n",
    "    'dmndInsttDivNm': '수요기관구분',\n",
    "    'dminsttRgnNm': '수요기관지역명',\n",
    "    'corpNm': '업체명',\n",
    "    'fnlDlvrReqYn': '최종납품요구여부',\n",
    "    'incdecQty': '증감납품요구수량',\n",
    "    'incdecAmt': '증감납품요구금액',\n",
    "    'cntrctCorpBizno': '업체사업자등록번호',\n",
    "    'dlvrReqNm': '납품요구건명',\n",
    "    'cntrctNo': '계약번호',\n",
    "    'cntrctChgOrd': '계약변경차수',\n",
    "    'masYn': '다수공급자계약여부',\n",
    "    'cnstwkMtrlDrctPurchsObjYn': '공사용자재직접구매대상여부',\n",
    "    'smetprCmptProdctYn': '중소기업자간경쟁제품여부',\n",
    "    'IntlCntrctDlvrReqDate': '최초납품요구접수일자',\n",
    "    'dlvrReqQty': '납품요구수량',\n",
    "    'dlvrReqAmt': '납품요구금액',\n",
    "    'corpEntrprsDivNmNm': '업체기업구분명',\n",
    "    'brnofceNm': '납품요구지청명'\n",
    "}\n",
    "\n",
    "shop_detail_df.rename(columns=column_mapping, inplace=True)\n",
    "\n",
    "# 필터링\n",
    "shop_detail_df = shop_detail_df[shop_detail_df['품명'] == '인조잔디']\n",
    "# shop_detail_df = shop_detail_df[shop_detail_df['최종납품요구여부'] == 'Y'].reset_index(drop=True)\n",
    "\n",
    "# 숫자형 컬럼 변환\n",
    "numeric_columns = ['단가', '수량', '금액', '납품요구수량', '납품요구금액', '증감납품요구수량', '증감납품요구금액']\n",
    "shop_detail_df[numeric_columns] = shop_detail_df[numeric_columns].apply(pd.to_numeric, errors='coerce')\n",
    "\n",
    "# 최종데이터셋\n",
    "shop_detail_df = shop_detail_df[['납품요구번호', '납품요구변경차수', '물품순번', '수요기관명', '납품요구접수일자', '납품요구건명', '업체명', '물품분류번호', '품명', '세부물품분류번호', '세부품명', \n",
    "                                 '물품식별번호', '품목', '단가', '단위', '수량', '금액', '납품기한일자', '계약구분', '계약번호', '계약변경차수', '다수공급자계약여부', '공사용자재직접구매대상여부', \n",
    "                                 '중소기업자간경쟁제품여부', '우수제품여부', '옵션구분', '최종납품요구여부', '최초납품요구접수일자', '납품요구수량',  '납품요구금액', '증감납품요구수량', '증감납품요구금액', \n",
    "                                 '수요기관코드', '수요기관구분', '수요기관지역명', '업체사업자등록번호', '업체기업구분명', '납품요구지청명']]"
   ]
  },
  {
   "cell_type": "code",
   "execution_count": 9,
   "id": "56f1e7ee",
   "metadata": {},
   "outputs": [
    {
     "name": "stdout",
     "output_type": "stream",
     "text": [
      "Data inserted into table shop_detail_df_0202408 successfully.\n"
     ]
    }
   ],
   "source": [
    "# 빅쿼리 적재\n",
    "save_dataframe_to_bigquery(shop_detail_df,'g2b','shop_detail_df_0'+today[:-2],bigquerykey_path)"
   ]
  },
  {
   "cell_type": "code",
   "execution_count": 10,
   "id": "415139dc",
   "metadata": {},
   "outputs": [],
   "source": [
    "# 전체 종합쇼핑몰 데이터 가져오기\n",
    "tables = create_bigquery_client(bigquerykey_path).list_tables(f\"{'mido-project-426906'}.{'g2b'}\")\n",
    "table_list = [table.table_id for table in tables if 'shop_detail_df' in table.table_id and 'all' not in table.table_id and 'total' not in table.table_id and 'view' not in table.table_id]\n",
    "\n",
    "shop_df_list = []\n",
    "for tb_nm in table_list:\n",
    "    data = get_dataframe_from_bigquery('g2b', tb_nm,bigquerykey_path)\n",
    "    shop_df_list.extend(data.to_dict('records'))"
   ]
  },
  {
   "cell_type": "code",
   "execution_count": 11,
   "id": "19ab6efd",
   "metadata": {},
   "outputs": [],
   "source": [
    "# total_shop_df = get_dataframe_from_bigquery('g2b', 'shop_detail_df_total', bigquerykey_path)\n",
    "all_shop_df = pd.DataFrame(shop_df_list)"
   ]
  },
  {
   "cell_type": "code",
   "execution_count": 12,
   "id": "3c2070c3",
   "metadata": {},
   "outputs": [
    {
     "name": "stdout",
     "output_type": "stream",
     "text": [
      "Data inserted into table shop_detail_df_all successfully.\n"
     ]
    }
   ],
   "source": [
    "# 빅쿼리 적재\n",
    "save_dataframe_to_bigquery(all_shop_df,'g2b','shop_detail_df_all',bigquerykey_path)"
   ]
  },
  {
   "cell_type": "markdown",
   "id": "9eeff18a",
   "metadata": {},
   "source": [
    "### 나라장터 종합쇼핑몰 품목 정보 조회"
   ]
  },
  {
   "cell_type": "code",
   "execution_count": 13,
   "id": "8d8e7f0c",
   "metadata": {},
   "outputs": [],
   "source": [
    "# API 엔드포인트 및 쿼리 파라미터 설정\n",
    "years= ['2022','2023','2024']\n",
    "all_items = []\n",
    "for year in years:\n",
    "    url = 'https://apis.data.go.kr/1230000/ShoppingMallPrdctInfoService06/getShoppingMallPrdctInfoList01'\n",
    "    params = {\n",
    "        'ServiceKey': \"mQ9FwLgvOY3RCjUPiBiGw0ZjjfJW1G5IWVopKvRrp/+e+FCQR8ClAQ2iNB0DFLVZbCjRY+QVE7/Wy8BbCF4O7w==\",\n",
    "        'pageNo': '1',\n",
    "        'numOfRows': '100',\n",
    "        'type': 'json',\n",
    "        'inqryDiv': '1',\n",
    "        'inqryBgnDate': year + '0101',#today[:-2]+'01', ## 해당월\n",
    "        'inqryEndDate': year + '1231',#today, ## 오늘날짜\n",
    "        'prdctClsfcNoNm': '인조잔디',\n",
    "        # 'exclcProdctYn': 'Y',\n",
    "        # 'masYn': 'Y',\n",
    "        # 'prodctCertYn': 'Y',\n",
    "    }\n",
    "\n",
    "\n",
    "    # 모든 데이터를 저장할 빈 리스트 초기화\n",
    "    # all_items = []\n",
    "\n",
    "    # 페이지를 바꿔가며 데이터를 가져오기\n",
    "    page_no = 1\n",
    "    while True:\n",
    "        params['pageNo'] = str(page_no)\n",
    "        response = requests.get(url, params=params)\n",
    "        data = response.json()\n",
    "        \n",
    "        # 현재 페이지의 items 가져오기\n",
    "        items = data['response']['body']['items']\n",
    "        \n",
    "        # items가 비어있으면 반복 종료\n",
    "        if not items:\n",
    "            break\n",
    "        \n",
    "        # 현재 페이지의 items를 all_items에 추가\n",
    "        all_items.extend(items)\n",
    "        \n",
    "        # 다음 페이지로 이동\n",
    "        page_no += 1\n",
    "\n",
    "# 모든 items 데이터를 데이터프레임으로 변환\n",
    "shop_prodinfo_df = pd.DataFrame(all_items)"
   ]
  },
  {
   "cell_type": "code",
   "execution_count": 14,
   "id": "e1c2db4f",
   "metadata": {},
   "outputs": [
    {
     "name": "stdout",
     "output_type": "stream",
     "text": [
      "Data inserted into table shop_prod_info successfully.\n"
     ]
    }
   ],
   "source": [
    "save_dataframe_to_bigquery(shop_prodinfo_df,'g2b','shop_prod_info',bigquerykey_path)"
   ]
  },
  {
   "cell_type": "markdown",
   "id": "17526e73-d1a6-460e-9cf2-568a1515c3f6",
   "metadata": {},
   "source": [
    "### 지자체 예산서 링크"
   ]
  },
  {
   "cell_type": "code",
   "execution_count": 15,
   "id": "4415ce30-bec4-4b43-a69a-b368a509073f",
   "metadata": {},
   "outputs": [],
   "source": [
    "# API 엔드포인트 및 기본 파라미터 설정\n",
    "url = \"https://www.lofin365.go.kr/lf/hub/BUDLK\"\n",
    "\n",
    "api_key = \"UPDXX1000317620240618111320UXQEE\"\n",
    "\n",
    "# 요청 헤더\n",
    "headers = {\n",
    "    \"Authorization\": f\"Bearer {api_key}\"\n",
    "}\n",
    "\n",
    "params = {\n",
    "    \"Key\": api_key,\n",
    "    \"Type\": \"json\",\n",
    "    \"pIndex\": 1,\n",
    "    \"pSize\": 1000,\n",
    "    \"fyr\": 2024,\n",
    "}"
   ]
  },
  {
   "cell_type": "code",
   "execution_count": 16,
   "id": "23259ac5-dd69-46b4-b5ac-ad09276bb497",
   "metadata": {
    "scrolled": true
   },
   "outputs": [],
   "source": [
    "response = requests.get(url, headers=headers, params=params, verify=False)\n",
    "data = response.json()"
   ]
  },
  {
   "cell_type": "code",
   "execution_count": 17,
   "id": "cce7ee77-2929-4b6f-89d4-a476c86629bf",
   "metadata": {},
   "outputs": [],
   "source": [
    "budget_link_df = pd.DataFrame(data['BUDLK'][1]['row'])\n",
    "budget_link_df.columns = ['기준년도', '지역명', '자치단체코드', '자치단체명', '링크명', 'URL']"
   ]
  },
  {
   "cell_type": "code",
   "execution_count": 18,
   "id": "08598685",
   "metadata": {},
   "outputs": [
    {
     "name": "stdout",
     "output_type": "stream",
     "text": [
      "Data inserted into table budget_link_df successfully.\n"
     ]
    }
   ],
   "source": [
    "save_dataframe_to_bigquery(budget_link_df,'budget','budget_link_df',bigquerykey_path)"
   ]
  },
  {
   "cell_type": "markdown",
   "id": "08a7a477-9103-4cf5-b1aa-ee69958945ab",
   "metadata": {},
   "source": [
    "### 지자체 사업별 예산"
   ]
  },
  {
   "cell_type": "code",
   "execution_count": 19,
   "id": "257cdb46-2dab-407b-b990-dd2852aa248a",
   "metadata": {},
   "outputs": [],
   "source": [
    "# API 엔드포인트 및 기본 파라미터 설정\n",
    "url = \"https://www.lofin365.go.kr/lf/hub/QWGJK\"\n",
    "\n",
    "api_key = \"TMGNU1000317620240618111419PWNQE\"\n",
    "\n",
    "# 요청 헤더\n",
    "headers = {\n",
    "    \"Authorization\": f\"Bearer {api_key}\"\n",
    "    }\n",
    "\n",
    "# 데이터 수집을 위한 빈 리스트 생성\n",
    "all_data = []\n",
    "page = 1\n",
    "page_size = 1000\n",
    "\n",
    "while True:\n",
    "    # 요청 파라미터\n",
    "    params = {\n",
    "        \"Key\": api_key,\n",
    "        \"Type\": \"json\",\n",
    "        \"pIndex\": page,\n",
    "        \"pSize\": page_size,\n",
    "        \"fyr\": today[:4],\n",
    "        \"exe_ymd\": today # ex) \"exe_ymd\": '20240628'\n",
    "    }\n",
    "\n",
    "    # API 요청 보내기 (certifi를 사용하여 SSL 인증서 검증)\n",
    "    response = requests.get(url, headers=headers, params=params, verify=False)\n",
    "\n",
    "    # 응답 확인\n",
    "    if response.status_code == 200:\n",
    "        data = response.json()\n",
    "\n",
    "        # 데이터를 리스트에 추가\n",
    "        if data:\n",
    "            all_data.extend(data['QWGJK'][1]['row'])\n",
    "            # 다음 페이지로 이동\n",
    "            page += 1\n",
    "        else:\n",
    "            # 더 이상 데이터가 없으면 중지\n",
    "            break\n",
    "    else:\n",
    "        print(f\"Failed to fetch data for page {page}: {response.status_code}\")\n",
    "        break\n",
    "\n",
    "# # 수집된 모든 데이터 출력\n",
    "# print(all_data)"
   ]
  },
  {
   "cell_type": "code",
   "execution_count": null,
   "id": "96b21f18-fa2a-463e-b874-1eb9b1b019b9",
   "metadata": {
    "scrolled": true
   },
   "outputs": [],
   "source": [
    "bid_budget_df = pd.DataFrame(all_data)"
   ]
  },
  {
   "cell_type": "code",
   "execution_count": null,
   "id": "f196bd71-59df-4902-8146-1a14ef1575d2",
   "metadata": {},
   "outputs": [],
   "source": [
    "column_mapping = {'acnt_dv_nm':'회계구분명',\n",
    "                  'dept_cd':'부서코드',\n",
    "                  'dbiz_cd':'세부사업코드',\n",
    "                  'dbiz_nm':'세부사업명',\n",
    "                  'exe_ymd':'집행일자',\n",
    "                  'bdg_cash_amt':'예산현액',\n",
    "                  'bdg_ntep':'국비',\n",
    "                  'capep':'시도비',\n",
    "                  'sggep':'시군구비',\n",
    "                  'etc_amt':'기타',\n",
    "                  'ep_amt':'지출액',\n",
    "                  'cpl_amt':'편성액',\n",
    "                  'fld_cd':'분야코드',\n",
    "                  'fld_nm':'분야명',\n",
    "                  'ane_part_cd':'부문코드',\n",
    "                  'part_nm':'부문명',\n",
    "                  'acnt_dv_cd':'회계구분코드',\n",
    "                  'fyr':'회계연도',\n",
    "                  'wa_laf_cd':'지역코드',\n",
    "                  'wa_laf_hg_nm':'지역명',\n",
    "                  'laf_cd':'자치단체코드',\n",
    "                  'laf_hg_nm':'자치단체명',\n",
    "                  'padm_laf_cd':'행정자치단체코드'}"
   ]
  },
  {
   "cell_type": "code",
   "execution_count": null,
   "id": "1fc434eb-05b4-439e-ac21-1c78587153d9",
   "metadata": {},
   "outputs": [],
   "source": [
    "bid_budget_df.rename(columns=column_mapping,inplace=True)\n",
    "bid_budget_df = bid_budget_df[['회계연도', '지역코드', '지역명', '자치단체코드', '자치단체명', '회계구분명', '세부사업코드', '세부사업명', '집행일자', '예산현액', '지출액', '편성액', '분야명', '부문명', '행정자치단체코드']] # '국비', '시도비', '시군구비', '기타'"
   ]
  },
  {
   "cell_type": "code",
   "execution_count": null,
   "id": "c5d51013",
   "metadata": {},
   "outputs": [],
   "source": [
    "# 필요키워드1\n",
    "need_kwd1 = '학교|초등학교|중학교|고등학교|대학교|다목적|운동장|종합운동장|공원|체육|체육공원|체육시설|체육센터|스포츠|스포츠센터|놀이시설|연병장|축구장|족구장|야구장|풋살장|배드민턴장|테니스장|게이트볼장|하키장'\n",
    "\n",
    "# 필요키워드2\n",
    "need_kwd2 = '개선|교체|보수|공사|구매|구입|설치|정비|조성'\n",
    "\n",
    "# 필요키워드3\n",
    "need_kwd3 = '인조잔디'\n",
    "\n",
    "# 제외키워드\n",
    "except_kwd = 'CCTV|cctv|LED|led|가로등|가속기|간접등|간판|개방|검진|경관|계단|골프장|관리|광고|교량|교실|교육|교차로|균열|그늘막|그림|급수관|급식|난방기|내진|냉방기|네트워크|노상|노점|농기계|단열|데이터|도로개설|도로방음벽|도로정비|도로확장|도서관|디자인|뚜껑|막구조물|맨홀|모노레일|모니터링|미끄럼|미세먼지|미술|방송|방수|방음|방음벽|배면도로|배수|버스|법률자문|벤치|벽화|보건|보도블럭|보상|보일러|보행자도로|복지|볼라드|분묘|불법|빗물받이|사용료|사워실|살포|생육환경|석면|선홈통|소프트웨어|수도|수로|수목표찰|수영장|스크린|스프링클러|승강기|시계탑|시스템|식수대|신호등|안심벨|안전|약수터|억제제|역량|연결도로|예방|예술|오염|옹벽|요양기관|운영|울타리|위생|위험수목|유아|육교|음성안내|음악|의자|인양기|인터넷|입학|자료|자전거|저장고|저장장치|전광판|전기|전신주|전통시장|정화|정화조|조도|조명|조형물|조화기|주차장|줄눈|진로진학|진입도로|창고|창출|처우|철거|취업|치안|카메라|카약|통학로|파고라|펜스|폐기물|폐열|포충기|풀장|풍차|하수|하수관로|하수도|하천|학습|행사|화장|화장실|활성화|횡단보도|휀스|흡연'"
   ]
  },
  {
   "cell_type": "code",
   "execution_count": null,
   "id": "190526f5",
   "metadata": {},
   "outputs": [],
   "source": [
    "bid_budget_df_filter = bid_budget_df[((bid_budget_df['세부사업명'].str.contains(need_kwd1) & \n",
    "                                  bid_budget_df['세부사업명'].str.contains(need_kwd2)) &\n",
    "                                  ~bid_budget_df['세부사업명'].str.contains(except_kwd)) |\n",
    "                                  bid_budget_df['세부사업명'].str.contains(need_kwd3)\n",
    "                                  ].reset_index(drop=True)"
   ]
  },
  {
   "cell_type": "code",
   "execution_count": null,
   "id": "d924fb47",
   "metadata": {},
   "outputs": [
    {
     "name": "stdout",
     "output_type": "stream",
     "text": [
      "Data inserted into table budget_df_020240806 successfully.\n"
     ]
    }
   ],
   "source": [
    "# 빅쿼리에 적재\n",
    "save_dataframe_to_bigquery(bid_budget_df_filter,'budget','budget_df_0'+today,bigquerykey_path)"
   ]
  },
  {
   "cell_type": "markdown",
   "id": "4585779d",
   "metadata": {},
   "source": [
    "### 교육청 예산"
   ]
  },
  {
   "cell_type": "code",
   "execution_count": null,
   "id": "b0d8ad00",
   "metadata": {},
   "outputs": [],
   "source": [
    "# edu_df = pd.read_csv('C:/py_src/midoproject/data/2024년 교육청 본예산 정리.csv')\n",
    "# edu_df.columns = ['시도','시군구','구분','과업명','금액','면적','예산집행']"
   ]
  },
  {
   "cell_type": "code",
   "execution_count": null,
   "id": "64fa77c8",
   "metadata": {},
   "outputs": [],
   "source": [
    "# save_dataframe_to_bigquery(edu_df,'edu','edu_budget',bigquerykey_path)"
   ]
  },
  {
   "cell_type": "markdown",
   "id": "9922edb8-d29a-4e03-8abe-88aa2b855000",
   "metadata": {},
   "source": [
    "### 뉴스기사스크랩핑"
   ]
  },
  {
   "cell_type": "markdown",
   "id": "69b98138-3b15-4542-9840-5fb4bd92a5e5",
   "metadata": {
    "jp-MarkdownHeadingCollapsed": true
   },
   "source": [
    "#### 네이버뉴스"
   ]
  },
  {
   "cell_type": "code",
   "execution_count": null,
   "id": "2fb613da-8f0a-44b5-974d-2f84ec106456",
   "metadata": {},
   "outputs": [
    {
     "name": "stderr",
     "output_type": "stream",
     "text": [
      "100%|██████████| 25/25 [00:03<00:00,  8.24it/s]\n"
     ]
    }
   ],
   "source": [
    "# 네이버 API 인증 정보\n",
    "client_id = 'AtyNtq218QgbEcjHkYAI'\n",
    "client_secret = 'JDVrsZkBtZ'\n",
    "\n",
    "# 검색 파라미터\n",
    "keyword = ['학교', '초등학교', '중학교', '고등학교', '대학교', '다목적', '운동장', '종합운동장', '공원', '체육', '체육공원', '체육시설', '체육센터', \n",
    "           '스포츠', '스포츠센터', '놀이시설', '연병장', '축구장','족구장', '야구장', '풋살장', '배드민턴장', '테니스장','게이트볼장', '하키장']\n",
    "\n",
    "display = 100  # 한 번에 가져올 검색 결과 출력 건수\n",
    "sort = 'date'  # 최신순 정렬\n",
    "max_results = 100  # 원하는 최대 검색 결과 건수\n",
    "\n",
    "\n",
    "# 결과를 저장할 리스트\n",
    "all_news = []\n",
    "\n",
    "for kwd in tqdm(keyword):\n",
    "    # 반복하여 API 요청 보내기\n",
    "    for start in range(1, max_results + 1, display):\n",
    "        url = f\"https://openapi.naver.com/v1/search/news.json?query={kwd}&display={display}&sort={sort}&start={start}\"\n",
    "        headers = {\n",
    "            'X-Naver-Client-Id': client_id,\n",
    "            'X-Naver-Client-Secret': client_secret\n",
    "        }\n",
    "        response = requests.get(url, headers=headers)\n",
    "        if response.status_code == 200:\n",
    "            news_data = response.json()\n",
    "            all_news.extend(news_data['items'])\n",
    "        else:\n",
    "            print(\"Error Code:\", response.status_code)\n",
    "            break"
   ]
  },
  {
   "cell_type": "code",
   "execution_count": null,
   "id": "08d262c5-b9d5-478b-bc76-9ddba4ad4071",
   "metadata": {},
   "outputs": [],
   "source": [
    "# 뉴스 기사 링크에서 제목과 본문을 가져오기 위한 함수\n",
    "def get_article_content(url):\n",
    "    headers = {'User-Agent': 'Mozilla/5.0'}\n",
    "    response = requests.get(url, headers=headers)\n",
    "    if response.status_code == 200:\n",
    "        soup = BeautifulSoup(response.text, 'html.parser')\n",
    "        title = soup.find('meta', property='og:title')['content']\n",
    "        content = soup.find('article', {'id': 'dic_area'}).get_text(strip=True)\n",
    "        return title, content, url\n",
    "    else:\n",
    "        return None, None, url\n",
    "\n",
    "# URL 리스트에서 제목과 본문 가져오기\n",
    "def fetch_news_content(news_links):\n",
    "    results = []\n",
    "    for link in tqdm(news_links):\n",
    "        title, content, url = get_article_content(link)\n",
    "        if title and content:\n",
    "            results.append({'title': title, 'content': content, 'link': url})\n",
    "    return pd.DataFrame(results)"
   ]
  },
  {
   "cell_type": "code",
   "execution_count": null,
   "id": "b6c73646-330e-43ee-8c5e-221a79bd7dcd",
   "metadata": {
    "scrolled": true
   },
   "outputs": [],
   "source": [
    "# 네이버뉴스형식 기사 추출\n",
    "all_news_df = pd.DataFrame(all_news)\n",
    "\n",
    "drop_idx = []\n",
    "for i in range(len(all_news_df['link'])):\n",
    "    if 'n.news.naver.com' not in all_news_df['link'][i]:\n",
    "            drop_idx = drop_idx + [i]\n",
    "\n",
    "news_df = all_news_df.drop(drop_idx).reset_index(drop=True)\n",
    "news_df = news_df.drop_duplicates(['link']).reset_index(drop=True)"
   ]
  },
  {
   "cell_type": "code",
   "execution_count": null,
   "id": "fa499e84-6e65-444e-9de9-47c8c35dcc9b",
   "metadata": {},
   "outputs": [
    {
     "name": "stderr",
     "output_type": "stream",
     "text": [
      "100%|██████████| 576/576 [01:59<00:00,  4.83it/s]\n"
     ]
    }
   ],
   "source": [
    "# 링크가 있는 데이터프레임의 컬럼을 리스트로 변환\n",
    "news_links = news_df['link'].tolist()\n",
    "\n",
    "# 뉴스 기사 내용 가져오기\n",
    "news_links_df = fetch_news_content(news_links)"
   ]
  },
  {
   "cell_type": "code",
   "execution_count": null,
   "id": "fe081384-7ff8-4adb-92f5-df06b6708d0b",
   "metadata": {
    "scrolled": true
   },
   "outputs": [],
   "source": [
    "naver_news_df = pd.merge(news_df,news_links_df,how='left',on='link')"
   ]
  },
  {
   "cell_type": "code",
   "execution_count": null,
   "id": "0b6a5284-b12d-4c65-8a44-44f5269f87ef",
   "metadata": {
    "scrolled": true
   },
   "outputs": [],
   "source": [
    "naver_news_df_fin = naver_news_df[['pubDate', 'title_y', 'content','originallink']]\n",
    "naver_news_df_fin.columns = ['기사날짜', '제목', '본문', '원본링크']"
   ]
  },
  {
   "cell_type": "code",
   "execution_count": null,
   "id": "04bd2fb5-7ab4-4230-b8eb-28fb209a1cb8",
   "metadata": {
    "scrolled": true
   },
   "outputs": [],
   "source": [
    "naver_news_df_fin = naver_news_df_fin.drop_duplicates() # 중복제거\n",
    "\n",
    "# 날짜 형식 변경\n",
    "naver_news_df_fin['기사날짜'] = naver_news_df_fin['기사날짜'].apply(lambda x: parser.parse(x).strftime('%Y-%m-%d'))\n",
    "# naver_news_df_fin['기사날짜'] = naver_news_df_fin['기사날짜'].str.split().str[0]\n",
    "naver_news_df_fin = naver_news_df_fin.sort_values(['기사날짜'],ascending=False).reset_index(drop=True)"
   ]
  },
  {
   "cell_type": "code",
   "execution_count": null,
   "id": "3a338f6f",
   "metadata": {},
   "outputs": [
    {
     "name": "stdout",
     "output_type": "stream",
     "text": [
      "Data inserted into table news_daily_020240806 successfully.\n"
     ]
    }
   ],
   "source": [
    "save_dataframe_to_bigquery(naver_news_df_fin, 'news', 'news_daily_0'+today, bigquerykey_path)"
   ]
  },
  {
   "cell_type": "markdown",
   "id": "96dab1a3",
   "metadata": {},
   "source": [
    "### 인포21"
   ]
  },
  {
   "cell_type": "code",
   "execution_count": null,
   "id": "ff29c6e5",
   "metadata": {},
   "outputs": [],
   "source": [
    "# 크롬 옵션 설정\n",
    "chrome_options = Options()\n",
    "# chrome_options.add_argument('--headless')  # 브라우저 창을 띄우지 않음\n",
    "chrome_options.add_argument('--disable-gpu')\n",
    "\n",
    "# 크롬 드라이버 서비스 설정\n",
    "# service = Service(ChromeDriverManager().install())\n",
    "service = Service()\n",
    "\n",
    "# 웹 드라이버 초기화\n",
    "driver = webdriver.Chrome(service=service, options=chrome_options)\n",
    "time.sleep(2)"
   ]
  },
  {
   "cell_type": "code",
   "execution_count": null,
   "id": "80990f91",
   "metadata": {},
   "outputs": [],
   "source": [
    "# 웹페이지 접속\n",
    "url = 'https://infose.info21c.net/info21c/bids/list/index?bidtype=con&bid_suc=bid&page=1&per-page=100'\n",
    "driver.get(url)\n",
    "time.sleep(2)"
   ]
  },
  {
   "cell_type": "code",
   "execution_count": null,
   "id": "8e475992",
   "metadata": {},
   "outputs": [],
   "source": [
    "# 로그인\n",
    "driver.find_element(By.CSS_SELECTOR, '#id').send_keys('midoplus') ## ID입력\n",
    "driver.find_element(By.CSS_SELECTOR, '#pass').send_keys('mido6235!!') ## password입력\n",
    "\n",
    "driver.find_element(By.CSS_SELECTOR, '#login_btn').click()\n",
    "time.sleep(2)"
   ]
  },
  {
   "cell_type": "markdown",
   "id": "89a73420",
   "metadata": {},
   "source": [
    "#### 입찰정보"
   ]
  },
  {
   "cell_type": "code",
   "execution_count": null,
   "id": "3a0a05fa",
   "metadata": {},
   "outputs": [],
   "source": [
    "# bid_suc - bid (입찰)\n",
    "# bidtype - con (공사) / ser (용역) / pur (구매)\n",
    "\n",
    "# bid_suc - suc (낙찰)\n",
    "# bidtype - con (공사) / ser (용역) / pur (구매)"
   ]
  },
  {
   "cell_type": "code",
   "execution_count": null,
   "id": "b8896cb4",
   "metadata": {},
   "outputs": [],
   "source": [
    "# 입찰\n",
    "# 공사 - 공고명/공고번호\t발주기관\t추정가격\t기초금액\t개찰일\t투찰마감\t입력일\t업종\t지역\n",
    "# 용역 - 공고명/공고번호\t발주기관\t추정가격\t기초금액\t개찰일\t투찰마감\t입력일\t업종\t지역\n",
    "# 구매 - 공고명/공고번호\t기초금액\t개찰일\t    업종\t     ㅁ\t   참가마감\t  투찰마감"
   ]
  },
  {
   "cell_type": "code",
   "execution_count": null,
   "id": "c8df26ad",
   "metadata": {},
   "outputs": [],
   "source": [
    "# 낙찰\n",
    "# 공사 - 공고명/공고번호\t기초금액\t예정가격\t1순위투찰금액\t1순위기초대비\t개찰일\t업종\n",
    "# 용역 - 공고명/공고번호\t발주기관\t예정가격\t예가/기초\t1순위업체\t개찰일\t업종\t지역\n",
    "# 구매 - 공고명/공고번호\t기초금액\t개찰일\t업종"
   ]
  },
  {
   "cell_type": "code",
   "execution_count": null,
   "id": "2ab5f463",
   "metadata": {},
   "outputs": [],
   "source": [
    "bid_info_dict={}"
   ]
  },
  {
   "cell_type": "code",
   "execution_count": null,
   "id": "6618e9df",
   "metadata": {},
   "outputs": [
    {
     "ename": "ValueError",
     "evalue": "Length mismatch: Expected axis has 6 elements, new values have 7 elements",
     "output_type": "error",
     "traceback": [
      "\u001b[1;31m---------------------------------------------------------------------------\u001b[0m",
      "\u001b[1;31mValueError\u001b[0m                                Traceback (most recent call last)",
      "Cell \u001b[1;32mIn[43], line 39\u001b[0m\n\u001b[0;32m     36\u001b[0m df_delete \u001b[38;5;241m=\u001b[39m df\u001b[38;5;241m.\u001b[39mfillna(\u001b[38;5;124m'\u001b[39m\u001b[38;5;124m'\u001b[39m)\u001b[38;5;241m.\u001b[39mapply(\u001b[38;5;28;01mlambda\u001b[39;00m x : (x\u001b[38;5;241m==\u001b[39m\u001b[38;5;124m'\u001b[39m\u001b[38;5;124m'\u001b[39m)\u001b[38;5;241m.\u001b[39msum(), axis\u001b[38;5;241m=\u001b[39m\u001b[38;5;241m0\u001b[39m) \u001b[38;5;66;03m## 빈칸 컬럼 확인\u001b[39;00m\n\u001b[0;32m     37\u001b[0m df \u001b[38;5;241m=\u001b[39m df[df\u001b[38;5;241m.\u001b[39mcolumns[df_delete\u001b[38;5;241m!=\u001b[39mdf_delete\u001b[38;5;241m.\u001b[39mmax()]] \u001b[38;5;66;03m## 빈칸 컬럼 제거\u001b[39;00m\n\u001b[1;32m---> 39\u001b[0m \u001b[43mdf\u001b[49m\u001b[38;5;241;43m.\u001b[39;49m\u001b[43mcolumns\u001b[49m \u001b[38;5;241m=\u001b[39m driver\u001b[38;5;241m.\u001b[39mfind_elements(By\u001b[38;5;241m.\u001b[39mCSS_SELECTOR, \u001b[38;5;124m'\u001b[39m\u001b[38;5;124m#w0 > table\u001b[39m\u001b[38;5;124m'\u001b[39m)[\u001b[38;5;241m0\u001b[39m]\u001b[38;5;241m.\u001b[39mtext\u001b[38;5;241m.\u001b[39msplit(\u001b[38;5;124m'\u001b[39m\u001b[38;5;130;01m\\n\u001b[39;00m\u001b[38;5;124m'\u001b[39m)[\u001b[38;5;241m0\u001b[39m]\u001b[38;5;241m.\u001b[39msplit()\n\u001b[0;32m     41\u001b[0m \u001b[38;5;66;03m# 전처리\u001b[39;00m\n\u001b[0;32m     42\u001b[0m df[\u001b[38;5;124m'\u001b[39m\u001b[38;5;124m공고명_re\u001b[39m\u001b[38;5;124m'\u001b[39m] \u001b[38;5;241m=\u001b[39m df[\u001b[38;5;124m'\u001b[39m\u001b[38;5;124m공고명/공고번호\u001b[39m\u001b[38;5;124m'\u001b[39m]\u001b[38;5;241m.\u001b[39mfillna(\u001b[38;5;124m'\u001b[39m\u001b[38;5;124m'\u001b[39m)\u001b[38;5;241m.\u001b[39mstr\u001b[38;5;241m.\u001b[39msplit(\u001b[38;5;124m'\u001b[39m\u001b[38;5;124m[\u001b[39m\u001b[38;5;124m'\u001b[39m)\u001b[38;5;241m.\u001b[39mstr[:\u001b[38;5;241m-\u001b[39m\u001b[38;5;241m1\u001b[39m]\u001b[38;5;241m.\u001b[39mapply((\u001b[38;5;124m'\u001b[39m\u001b[38;5;124m[\u001b[39m\u001b[38;5;124m'\u001b[39m)\u001b[38;5;241m.\u001b[39mjoin)\u001b[38;5;241m.\u001b[39mstr\u001b[38;5;241m.\u001b[39mstrip()\u001b[38;5;241m.\u001b[39mstr\u001b[38;5;241m.\u001b[39msplit(\u001b[38;5;124m'\u001b[39m\u001b[38;5;124m[\u001b[39m\u001b[38;5;124m'\u001b[39m)\n",
      "File \u001b[1;32mc:\\Users\\kkims\\anaconda3\\envs\\mido\\lib\\site-packages\\pandas\\core\\generic.py:6002\u001b[0m, in \u001b[0;36mNDFrame.__setattr__\u001b[1;34m(self, name, value)\u001b[0m\n\u001b[0;32m   6000\u001b[0m \u001b[38;5;28;01mtry\u001b[39;00m:\n\u001b[0;32m   6001\u001b[0m     \u001b[38;5;28mobject\u001b[39m\u001b[38;5;241m.\u001b[39m\u001b[38;5;21m__getattribute__\u001b[39m(\u001b[38;5;28mself\u001b[39m, name)\n\u001b[1;32m-> 6002\u001b[0m     \u001b[38;5;28;01mreturn\u001b[39;00m \u001b[38;5;28;43mobject\u001b[39;49m\u001b[38;5;241;43m.\u001b[39;49m\u001b[38;5;21;43m__setattr__\u001b[39;49m\u001b[43m(\u001b[49m\u001b[38;5;28;43mself\u001b[39;49m\u001b[43m,\u001b[49m\u001b[43m \u001b[49m\u001b[43mname\u001b[49m\u001b[43m,\u001b[49m\u001b[43m \u001b[49m\u001b[43mvalue\u001b[49m\u001b[43m)\u001b[49m\n\u001b[0;32m   6003\u001b[0m \u001b[38;5;28;01mexcept\u001b[39;00m \u001b[38;5;167;01mAttributeError\u001b[39;00m:\n\u001b[0;32m   6004\u001b[0m     \u001b[38;5;28;01mpass\u001b[39;00m\n",
      "File \u001b[1;32mc:\\Users\\kkims\\anaconda3\\envs\\mido\\lib\\site-packages\\pandas\\_libs\\properties.pyx:69\u001b[0m, in \u001b[0;36mpandas._libs.properties.AxisProperty.__set__\u001b[1;34m()\u001b[0m\n",
      "File \u001b[1;32mc:\\Users\\kkims\\anaconda3\\envs\\mido\\lib\\site-packages\\pandas\\core\\generic.py:730\u001b[0m, in \u001b[0;36mNDFrame._set_axis\u001b[1;34m(self, axis, labels)\u001b[0m\n\u001b[0;32m    725\u001b[0m \u001b[38;5;250m\u001b[39m\u001b[38;5;124;03m\"\"\"\u001b[39;00m\n\u001b[0;32m    726\u001b[0m \u001b[38;5;124;03mThis is called from the cython code when we set the `index` attribute\u001b[39;00m\n\u001b[0;32m    727\u001b[0m \u001b[38;5;124;03mdirectly, e.g. `series.index = [1, 2, 3]`.\u001b[39;00m\n\u001b[0;32m    728\u001b[0m \u001b[38;5;124;03m\"\"\"\u001b[39;00m\n\u001b[0;32m    729\u001b[0m labels \u001b[38;5;241m=\u001b[39m ensure_index(labels)\n\u001b[1;32m--> 730\u001b[0m \u001b[38;5;28;43mself\u001b[39;49m\u001b[38;5;241;43m.\u001b[39;49m\u001b[43m_mgr\u001b[49m\u001b[38;5;241;43m.\u001b[39;49m\u001b[43mset_axis\u001b[49m\u001b[43m(\u001b[49m\u001b[43maxis\u001b[49m\u001b[43m,\u001b[49m\u001b[43m \u001b[49m\u001b[43mlabels\u001b[49m\u001b[43m)\u001b[49m\n\u001b[0;32m    731\u001b[0m \u001b[38;5;28mself\u001b[39m\u001b[38;5;241m.\u001b[39m_clear_item_cache()\n",
      "File \u001b[1;32mc:\\Users\\kkims\\anaconda3\\envs\\mido\\lib\\site-packages\\pandas\\core\\internals\\managers.py:225\u001b[0m, in \u001b[0;36mBaseBlockManager.set_axis\u001b[1;34m(self, axis, new_labels)\u001b[0m\n\u001b[0;32m    223\u001b[0m \u001b[38;5;28;01mdef\u001b[39;00m \u001b[38;5;21mset_axis\u001b[39m(\u001b[38;5;28mself\u001b[39m, axis: AxisInt, new_labels: Index) \u001b[38;5;241m-\u001b[39m\u001b[38;5;241m>\u001b[39m \u001b[38;5;28;01mNone\u001b[39;00m:\n\u001b[0;32m    224\u001b[0m     \u001b[38;5;66;03m# Caller is responsible for ensuring we have an Index object.\u001b[39;00m\n\u001b[1;32m--> 225\u001b[0m     \u001b[38;5;28;43mself\u001b[39;49m\u001b[38;5;241;43m.\u001b[39;49m\u001b[43m_validate_set_axis\u001b[49m\u001b[43m(\u001b[49m\u001b[43maxis\u001b[49m\u001b[43m,\u001b[49m\u001b[43m \u001b[49m\u001b[43mnew_labels\u001b[49m\u001b[43m)\u001b[49m\n\u001b[0;32m    226\u001b[0m     \u001b[38;5;28mself\u001b[39m\u001b[38;5;241m.\u001b[39maxes[axis] \u001b[38;5;241m=\u001b[39m new_labels\n",
      "File \u001b[1;32mc:\\Users\\kkims\\anaconda3\\envs\\mido\\lib\\site-packages\\pandas\\core\\internals\\base.py:70\u001b[0m, in \u001b[0;36mDataManager._validate_set_axis\u001b[1;34m(self, axis, new_labels)\u001b[0m\n\u001b[0;32m     67\u001b[0m     \u001b[38;5;28;01mpass\u001b[39;00m\n\u001b[0;32m     69\u001b[0m \u001b[38;5;28;01melif\u001b[39;00m new_len \u001b[38;5;241m!=\u001b[39m old_len:\n\u001b[1;32m---> 70\u001b[0m     \u001b[38;5;28;01mraise\u001b[39;00m \u001b[38;5;167;01mValueError\u001b[39;00m(\n\u001b[0;32m     71\u001b[0m         \u001b[38;5;124mf\u001b[39m\u001b[38;5;124m\"\u001b[39m\u001b[38;5;124mLength mismatch: Expected axis has \u001b[39m\u001b[38;5;132;01m{\u001b[39;00mold_len\u001b[38;5;132;01m}\u001b[39;00m\u001b[38;5;124m elements, new \u001b[39m\u001b[38;5;124m\"\u001b[39m\n\u001b[0;32m     72\u001b[0m         \u001b[38;5;124mf\u001b[39m\u001b[38;5;124m\"\u001b[39m\u001b[38;5;124mvalues have \u001b[39m\u001b[38;5;132;01m{\u001b[39;00mnew_len\u001b[38;5;132;01m}\u001b[39;00m\u001b[38;5;124m elements\u001b[39m\u001b[38;5;124m\"\u001b[39m\n\u001b[0;32m     73\u001b[0m     )\n",
      "\u001b[1;31mValueError\u001b[0m: Length mismatch: Expected axis has 6 elements, new values have 7 elements"
     ]
    }
   ],
   "source": [
    "# 초기화면\n",
    "start_date = today[:4] + '-' + today[4:6] + '-' + '01' # today[:4] + '-01-01'\n",
    "end_date = today[:4] + '-' + today[4:6] + '-' + today[6:]\n",
    "bidtype = ['con','ser','pur']\n",
    "for bid in bidtype:\n",
    "    # 초기화면\n",
    "    home_url = 'https://infose.info21c.net/info21c/bids/list/index?mode=&page='+str(1)+'&bid_suc=bid&division=1&searchtype=&userid=midoplus&searchWord=&bidtype='+bid+'&g2bcode=&itemcode=&mainforce_code=&keyword=&location=&locationLoc=&whereis=&bid_opt=&contract=&delay=&cancel=&ulevel=&contract_sys=&convention=&sort=-writedt&bid_kind=&word_type=&subWord=&itemcodeAll=&keywordAll=&g2bcodeAll=&whereisAll=&locationAll=&bid_optAll=&conlevel=&cdate_column=writedt&cfrom_date='+start_date+'&cto_date='+end_date+'&pageSize=100'\n",
    "    driver.get(home_url)\n",
    "\n",
    "    total_cnt = int(driver.find_element(By.CLASS_NAME, 'list_top').text.split('\\n')[0].split(' ')[1].replace(',','')) ## 총 입찰공고건수\n",
    "    down_page_cnt = (total_cnt // 100) + 1 ## 반복횟수\n",
    "\n",
    "    bid_info_list = []\n",
    "\n",
    "    for page_no in range(1,down_page_cnt+1):\n",
    "        # 웹페이지 접속\n",
    "        url = 'https://infose.info21c.net/info21c/bids/list/index?mode=&page='+str(page_no)+'&bid_suc=bid&division=1&searchtype=&userid=midoplus&searchWord=&bidtype='+bid+'&g2bcode=&itemcode=&mainforce_code=&keyword=&location=&locationLoc=&whereis=&bid_opt=&contract=&delay=&cancel=&ulevel=&contract_sys=&convention=&sort=-writedt&bid_kind=&word_type=&subWord=&itemcodeAll=&keywordAll=&g2bcodeAll=&whereisAll=&locationAll=&bid_optAll=&conlevel=&cdate_column=writedt&cfrom_date='+start_date+'&cto_date='+end_date+'&pageSize=100'\n",
    "        driver.get(url)\n",
    "        time.sleep(1)\n",
    "\n",
    "        rows = driver.find_elements(By.CSS_SELECTOR, '#w0 > table > tbody > tr') ## 테이블 row 수\n",
    "        \n",
    "        for i in range(len(rows)):\n",
    "            col = rows[i].find_elements(By.TAG_NAME, 'td') ## 테이블 column 수\n",
    "            cells = []\n",
    "\n",
    "            for j in range(len(col)):\n",
    "                cells.append(col[j].text)\n",
    "\n",
    "            bid_info_list.append(cells)\n",
    "            \n",
    "        time.sleep(1)\n",
    "\n",
    "    # DataFrame으로 변환\n",
    "    df = pd.DataFrame(bid_info_list)\n",
    "    df_delete = df.fillna('').apply(lambda x : (x=='').sum(), axis=0) ## 빈칸 컬럼 확인\n",
    "    df = df[df.columns[df_delete!=df_delete.max()]] ## 빈칸 컬럼 제거\n",
    "\n",
    "    df.columns = driver.find_elements(By.CSS_SELECTOR, '#w0 > table')[0].text.split('\\n')[0].split()\n",
    "\n",
    "    # 전처리\n",
    "    df['공고명_re'] = df['공고명/공고번호'].fillna('').str.split('[').str[:-1].apply(('[').join).str.strip().str.split('[')\n",
    "\n",
    "    df['공고명'] = df['공고명_re'].str[0].str.strip()\n",
    "    df['분류'] = df['공고명_re'].str[1].str.split().str[1]\n",
    "    df['공고명'] = np.where(df['분류'].isnull(), df['공고명_re'].str[0].str.strip().str.split().str[:-1].apply(' '.join), df['공고명'])\n",
    "    df['분류'] = np.where(df['분류'].isnull(), df['공고명_re'].str[0].str.strip().str.split().str[-1], df['분류'])    \n",
    "    df['공고번호'] = df['공고명/공고번호'].fillna('').str.split('[').str[-1].str.split(']').str[0]\n",
    "    df['개찰일'] = df['개찰일'].fillna('').str.split('\\n').str[0]\n",
    "    df['개찰일'] = pd.to_datetime(df['개찰일'], format='%y.%m.%d').dt.strftime('%y.%m.%d')\n",
    "    df['투찰마감'] = df['투찰마감'].fillna('').str.split('\\n').str[0]\n",
    "    df['투찰마감'] = pd.to_datetime(df['투찰마감'], format='%y.%m.%d').dt.strftime('%y.%m.%d')\n",
    "\n",
    "    df.drop(['공고명/공고번호', '공고명_re'], axis=1, inplace=True)\n",
    "\n",
    "    bid_info_dict[bid] = df"
   ]
  },
  {
   "cell_type": "code",
   "execution_count": null,
   "id": "c574ee11",
   "metadata": {},
   "outputs": [
    {
     "name": "stdout",
     "output_type": "stream",
     "text": [
      "Data inserted into table bid_con_df_008 successfully.\n",
      "Data inserted into table bid_ser_df_008 successfully.\n"
     ]
    },
    {
     "ename": "KeyError",
     "evalue": "'pur'",
     "output_type": "error",
     "traceback": [
      "\u001b[1;31m---------------------------------------------------------------------------\u001b[0m",
      "\u001b[1;31mKeyError\u001b[0m                                  Traceback (most recent call last)",
      "Cell \u001b[1;32mIn[40], line 4\u001b[0m\n\u001b[0;32m      2\u001b[0m save_dataframe_to_bigquery(bid_info_dict[\u001b[38;5;124m'\u001b[39m\u001b[38;5;124mcon\u001b[39m\u001b[38;5;124m'\u001b[39m],\u001b[38;5;124m'\u001b[39m\u001b[38;5;124minfo21\u001b[39m\u001b[38;5;124m'\u001b[39m,\u001b[38;5;124m'\u001b[39m\u001b[38;5;124mbid_con_df_0\u001b[39m\u001b[38;5;124m'\u001b[39m\u001b[38;5;241m+\u001b[39mtoday[\u001b[38;5;241m4\u001b[39m:\u001b[38;5;241m6\u001b[39m],bigquerykey_path)\n\u001b[0;32m      3\u001b[0m save_dataframe_to_bigquery(bid_info_dict[\u001b[38;5;124m'\u001b[39m\u001b[38;5;124mser\u001b[39m\u001b[38;5;124m'\u001b[39m],\u001b[38;5;124m'\u001b[39m\u001b[38;5;124minfo21\u001b[39m\u001b[38;5;124m'\u001b[39m,\u001b[38;5;124m'\u001b[39m\u001b[38;5;124mbid_ser_df_0\u001b[39m\u001b[38;5;124m'\u001b[39m\u001b[38;5;241m+\u001b[39mtoday[\u001b[38;5;241m4\u001b[39m:\u001b[38;5;241m6\u001b[39m],bigquerykey_path)\n\u001b[1;32m----> 4\u001b[0m save_dataframe_to_bigquery(\u001b[43mbid_info_dict\u001b[49m\u001b[43m[\u001b[49m\u001b[38;5;124;43m'\u001b[39;49m\u001b[38;5;124;43mpur\u001b[39;49m\u001b[38;5;124;43m'\u001b[39;49m\u001b[43m]\u001b[49m,\u001b[38;5;124m'\u001b[39m\u001b[38;5;124minfo21\u001b[39m\u001b[38;5;124m'\u001b[39m,\u001b[38;5;124m'\u001b[39m\u001b[38;5;124mbid_pur_df_0\u001b[39m\u001b[38;5;124m'\u001b[39m\u001b[38;5;241m+\u001b[39mtoday[\u001b[38;5;241m4\u001b[39m:\u001b[38;5;241m6\u001b[39m],bigquerykey_path)\n",
      "\u001b[1;31mKeyError\u001b[0m: 'pur'"
     ]
    }
   ],
   "source": [
    "# 빅쿼리에 적재\n",
    "save_dataframe_to_bigquery(bid_info_dict['con'],'info21','bid_con_df_0'+today[4:6],bigquerykey_path)\n",
    "save_dataframe_to_bigquery(bid_info_dict['ser'],'info21','bid_ser_df_0'+today[4:6],bigquerykey_path)\n",
    "save_dataframe_to_bigquery(bid_info_dict['pur'],'info21','bid_pur_df_0'+today[4:6],bigquerykey_path)"
   ]
  }
 ],
 "metadata": {
  "kernelspec": {
   "display_name": "Python 3 (ipykernel)",
   "language": "python",
   "name": "python3"
  },
  "language_info": {
   "codemirror_mode": {
    "name": "ipython",
    "version": 3
   },
   "file_extension": ".py",
   "mimetype": "text/x-python",
   "name": "python",
   "nbconvert_exporter": "python",
   "pygments_lexer": "ipython3",
   "version": "3.8.19"
  }
 },
 "nbformat": 4,
 "nbformat_minor": 5
}
